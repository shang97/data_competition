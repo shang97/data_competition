{
 "cells": [
  {
   "cell_type": "code",
   "execution_count": 1,
   "metadata": {},
   "outputs": [],
   "source": [
    "import pandas as pd\n",
    "import numpy as np\n",
    "import warnings\n",
    "warnings.filterwarnings('ignore')"
   ]
  },
  {
   "cell_type": "markdown",
   "metadata": {},
   "source": [
    "reduce_mem_usage 函数通过调整数据类型，减少数据在内存中占用的空间"
   ]
  },
  {
   "cell_type": "code",
   "execution_count": 2,
   "metadata": {},
   "outputs": [],
   "source": [
    "def reduce_mem_usage(df):\n",
    "    \"\"\" iterate df 的每个特征，修改数据类型，降低内存占用 \"\"\"\n",
    "    # 初始 df 的内存占用, sum的结果是 B，除以两个1024，变成 MB\n",
    "    start_mem = df.memory_usage().sum() / 1024 / 1024 \n",
    "    print('Memory usage of dataframe is {:.2f} MB'.format(start_mem))\n",
    "    \n",
    "    for col in df.columns:\n",
    "        col_type = df[col].dtype\n",
    "        # 对于非object的数值型特征，分别计算该特征的最小值和最大值所占内存的上下界\n",
    "        if col_type != object:\n",
    "            c_min = df[col].min()\n",
    "            c_max = df[col].max()\n",
    "            # 如果是整型数据，从占用内存最小的数据类型开始，依次进行数值比较，测试 特征的取值范围 是否在 该数据类型的取值范围里\n",
    "            if str(col_type)[:3] == 'int':\n",
    "                if c_min > np.iinfo(np.int8).min and c_max < np.iinfo(np.int8).max:\n",
    "                    df[col] = df[col].astype(np.int8)\n",
    "                elif c_min > np.iinfo(np.int16).min and c_max < np.iinfo(np.int16).max:\n",
    "                    df[col] = df[col].astype(np.int16)\n",
    "                elif c_min > np.iinfo(np.int32).min and c_max < np.iinfo(np.int32).max:\n",
    "                    df[col] = df[col].astype(np.int32)\n",
    "                elif c_min > np.iinfo(np.int64).min and c_max < np.iinfo(np.int64).max:\n",
    "                    df[col] = df[col].astype(np.int64) \n",
    "            # 如果是浮点型数据，同样是依次进行比较，但是最小的是float16，而且float32基本上已经足够大，够用了\n",
    "            else:\n",
    "                if c_min > np.finfo(np.float16).min and c_max < np.finfo(np.float16).max:\n",
    "                    df[col] = df[col].astype(np.float16)\n",
    "                elif c_min > np.finfo(np.float32).min and c_max < np.finfo(np.float32).max:\n",
    "                    df[col] = df[col].astype(np.float32)\n",
    "                else:\n",
    "                    df[col] = df[col].astype(np.float64)\n",
    "        # 对于object型数据，转换为分类型数据，降低内存占用(没有时间型特征，只留了使用天数)\n",
    "        else:\n",
    "            df[col] = df[col].astype('category')\n",
    "    \n",
    "    # 修改每个特征的数据类型后，df 的内存占用\n",
    "    end_mem = df.memory_usage().sum()  / 1024 / 1024 \n",
    "    print('Memory usage after optimization is: {:.2f} MB'.format(end_mem))\n",
    "    print('Decreased by {:.1f}%'.format(100 * (start_mem - end_mem) / start_mem))\n",
    "    return df"
   ]
  },
  {
   "cell_type": "code",
   "execution_count": 3,
   "metadata": {},
   "outputs": [
    {
     "data": {
      "text/plain": [
       "iinfo(min=-128, max=127, dtype=int8)"
      ]
     },
     "execution_count": 3,
     "metadata": {},
     "output_type": "execute_result"
    }
   ],
   "source": [
    "np.iinfo(np.int8)"
   ]
  },
  {
   "cell_type": "code",
   "execution_count": 5,
   "metadata": {},
   "outputs": [
    {
     "data": {
      "text/plain": [
       "(-128, 127)"
      ]
     },
     "execution_count": 5,
     "metadata": {},
     "output_type": "execute_result"
    }
   ],
   "source": [
    "np.iinfo(np.int8).min, np.iinfo(np.int8).max"
   ]
  },
  {
   "cell_type": "code",
   "execution_count": 6,
   "metadata": {},
   "outputs": [
    {
     "data": {
      "text/plain": [
       "finfo(resolution=1e-06, min=-3.4028235e+38, max=3.4028235e+38, dtype=float32)"
      ]
     },
     "execution_count": 6,
     "metadata": {},
     "output_type": "execute_result"
    }
   ],
   "source": [
    "np.finfo(np.float32)"
   ]
  },
  {
   "cell_type": "code",
   "execution_count": 8,
   "metadata": {},
   "outputs": [
    {
     "data": {
      "text/plain": [
       "finfo(resolution=0.001, min=-6.55040e+04, max=6.55040e+04, dtype=float16)"
      ]
     },
     "execution_count": 8,
     "metadata": {},
     "output_type": "execute_result"
    }
   ],
   "source": [
    "np.finfo(np.float16)"
   ]
  },
  {
   "cell_type": "code",
   "execution_count": 3,
   "metadata": {},
   "outputs": [
    {
     "name": "stdout",
     "output_type": "stream",
     "text": [
      "Memory usage of dataframe is 59.22 MB\n",
      "Memory usage after optimization is: 15.75 MB\n",
      "Decreased by 73.4%\n"
     ]
    }
   ],
   "source": [
    "data = reduce_mem_usage(pd.read_csv('data_for_tree.gz'))"
   ]
  },
  {
   "cell_type": "code",
   "execution_count": 6,
   "metadata": {},
   "outputs": [],
   "source": [
    "data.to_csv('data_for_tree1.gz')"
   ]
  },
  {
   "cell_type": "code",
   "execution_count": 16,
   "metadata": {},
   "outputs": [
    {
     "data": {
      "text/plain": [
       "(199037, 39)"
      ]
     },
     "execution_count": 16,
     "metadata": {},
     "output_type": "execute_result"
    }
   ],
   "source": [
    "data.shape"
   ]
  },
  {
   "cell_type": "markdown",
   "metadata": {},
   "source": [
    "仍有部分特征是有缺失值的，notRepairedDamage的缺失值最容易被忽略"
   ]
  },
  {
   "cell_type": "code",
   "execution_count": 32,
   "metadata": {},
   "outputs": [
    {
     "data": {
      "text/plain": [
       "Index(['bodyType', 'fuelType', 'gearbox', 'model', 'price', 'used_time',\n",
       "       'city', 'power_bin'],\n",
       "      dtype='object')"
      ]
     },
     "execution_count": 32,
     "metadata": {},
     "output_type": "execute_result"
    }
   ],
   "source": [
    "data.columns[data.isnull().any()]"
   ]
  },
  {
   "cell_type": "code",
   "execution_count": 33,
   "metadata": {},
   "outputs": [
    {
     "data": {
      "text/plain": [
       "0    0.0\n",
       "1      -\n",
       "2    0.0\n",
       "3    0.0\n",
       "4    0.0\n",
       "Name: notRepairedDamage, dtype: category\n",
       "Categories (3, object): [-, 0.0, 1.0]"
      ]
     },
     "execution_count": 33,
     "metadata": {},
     "output_type": "execute_result"
    }
   ],
   "source": [
    "data.notRepairedDamage[:5]"
   ]
  },
  {
   "cell_type": "code",
   "execution_count": 4,
   "metadata": {},
   "outputs": [],
   "source": [
    "continuous_features = [x for x in data.columns if x not in ['price','brand','model']]"
   ]
  },
  {
   "cell_type": "markdown",
   "metadata": {},
   "source": [
    "**缺失值不能用0填充吧，有些特征的缺失值就是0呢？？**"
   ]
  },
  {
   "cell_type": "markdown",
   "metadata": {},
   "source": [
    "### 一、线性回归 & 五折交叉验证 & 模拟真实业务情况"
   ]
  },
  {
   "cell_type": "code",
   "execution_count": 9,
   "metadata": {},
   "outputs": [
    {
     "data": {
      "text/plain": [
       "0.0    147809\n",
       "-       32251\n",
       "1.0     18977\n",
       "Name: notRepairedDamage, dtype: int64"
      ]
     },
     "execution_count": 9,
     "metadata": {},
     "output_type": "execute_result"
    }
   ],
   "source": [
    "data.notRepairedDamage.value_counts()"
   ]
  },
  {
   "cell_type": "code",
   "execution_count": 14,
   "metadata": {},
   "outputs": [
    {
     "data": {
      "text/plain": [
       "0    180060\n",
       "1     18977\n",
       "Name: notRepairedDamage, dtype: int64"
      ]
     },
     "execution_count": 14,
     "metadata": {},
     "output_type": "execute_result"
    }
   ],
   "source": [
    "b = data.notRepairedDamage.replace('-', 0).astype(np.float16)\n",
    "b.astype(np.int8).value_counts()"
   ]
  },
  {
   "cell_type": "code",
   "execution_count": 15,
   "metadata": {},
   "outputs": [
    {
     "data": {
      "text/html": [
       "<div>\n",
       "<style scoped>\n",
       "    .dataframe tbody tr th:only-of-type {\n",
       "        vertical-align: middle;\n",
       "    }\n",
       "\n",
       "    .dataframe tbody tr th {\n",
       "        vertical-align: top;\n",
       "    }\n",
       "\n",
       "    .dataframe thead th {\n",
       "        text-align: right;\n",
       "    }\n",
       "</style>\n",
       "<table border=\"1\" class=\"dataframe\">\n",
       "  <thead>\n",
       "    <tr style=\"text-align: right;\">\n",
       "      <th></th>\n",
       "      <th>SaleID</th>\n",
       "      <th>bodyType</th>\n",
       "      <th>brand</th>\n",
       "      <th>fuelType</th>\n",
       "      <th>gearbox</th>\n",
       "      <th>kilometer</th>\n",
       "      <th>model</th>\n",
       "      <th>name</th>\n",
       "      <th>notRepairedDamage</th>\n",
       "      <th>offerType</th>\n",
       "      <th>...</th>\n",
       "      <th>used_time</th>\n",
       "      <th>city</th>\n",
       "      <th>brand_amount</th>\n",
       "      <th>brand_price_max</th>\n",
       "      <th>brand_price_median</th>\n",
       "      <th>brand_price_min</th>\n",
       "      <th>brand_price_sum</th>\n",
       "      <th>brand_price_std</th>\n",
       "      <th>brand_price_average</th>\n",
       "      <th>power_bin</th>\n",
       "    </tr>\n",
       "  </thead>\n",
       "  <tbody>\n",
       "    <tr>\n",
       "      <th>0</th>\n",
       "      <td>0</td>\n",
       "      <td>1.0</td>\n",
       "      <td>6</td>\n",
       "      <td>0.0</td>\n",
       "      <td>0.0</td>\n",
       "      <td>12.5</td>\n",
       "      <td>30.0</td>\n",
       "      <td>736</td>\n",
       "      <td>0.0</td>\n",
       "      <td>0</td>\n",
       "      <td>...</td>\n",
       "      <td>4384.0</td>\n",
       "      <td>1.0</td>\n",
       "      <td>10192.0</td>\n",
       "      <td>35990.0</td>\n",
       "      <td>1800.0</td>\n",
       "      <td>13.0</td>\n",
       "      <td>36457520.0</td>\n",
       "      <td>4564.0</td>\n",
       "      <td>3576.0</td>\n",
       "      <td>5.0</td>\n",
       "    </tr>\n",
       "    <tr>\n",
       "      <th>1</th>\n",
       "      <td>1</td>\n",
       "      <td>2.0</td>\n",
       "      <td>1</td>\n",
       "      <td>0.0</td>\n",
       "      <td>0.0</td>\n",
       "      <td>15.0</td>\n",
       "      <td>40.0</td>\n",
       "      <td>2262</td>\n",
       "      <td>-</td>\n",
       "      <td>0</td>\n",
       "      <td>...</td>\n",
       "      <td>4756.0</td>\n",
       "      <td>4.0</td>\n",
       "      <td>13656.0</td>\n",
       "      <td>84000.0</td>\n",
       "      <td>6400.0</td>\n",
       "      <td>15.0</td>\n",
       "      <td>124044600.0</td>\n",
       "      <td>8992.0</td>\n",
       "      <td>9080.0</td>\n",
       "      <td>NaN</td>\n",
       "    </tr>\n",
       "    <tr>\n",
       "      <th>2</th>\n",
       "      <td>2</td>\n",
       "      <td>1.0</td>\n",
       "      <td>15</td>\n",
       "      <td>0.0</td>\n",
       "      <td>0.0</td>\n",
       "      <td>12.5</td>\n",
       "      <td>115.0</td>\n",
       "      <td>14874</td>\n",
       "      <td>0.0</td>\n",
       "      <td>0</td>\n",
       "      <td>...</td>\n",
       "      <td>4384.0</td>\n",
       "      <td>2.0</td>\n",
       "      <td>1458.0</td>\n",
       "      <td>45000.0</td>\n",
       "      <td>8496.0</td>\n",
       "      <td>100.0</td>\n",
       "      <td>14373814.0</td>\n",
       "      <td>5424.0</td>\n",
       "      <td>9848.0</td>\n",
       "      <td>16.0</td>\n",
       "    </tr>\n",
       "  </tbody>\n",
       "</table>\n",
       "<p>3 rows × 39 columns</p>\n",
       "</div>"
      ],
      "text/plain": [
       "   SaleID  bodyType  brand  fuelType  gearbox  kilometer  model   name  \\\n",
       "0       0       1.0      6       0.0      0.0       12.5   30.0    736   \n",
       "1       1       2.0      1       0.0      0.0       15.0   40.0   2262   \n",
       "2       2       1.0     15       0.0      0.0       12.5  115.0  14874   \n",
       "\n",
       "  notRepairedDamage  offerType  ...  used_time  city  brand_amount  \\\n",
       "0               0.0          0  ...     4384.0   1.0       10192.0   \n",
       "1                 -          0  ...     4756.0   4.0       13656.0   \n",
       "2               0.0          0  ...     4384.0   2.0        1458.0   \n",
       "\n",
       "   brand_price_max  brand_price_median  brand_price_min  brand_price_sum  \\\n",
       "0          35990.0              1800.0             13.0       36457520.0   \n",
       "1          84000.0              6400.0             15.0      124044600.0   \n",
       "2          45000.0              8496.0            100.0       14373814.0   \n",
       "\n",
       "   brand_price_std  brand_price_average  power_bin  \n",
       "0           4564.0               3576.0        5.0  \n",
       "1           8992.0               9080.0        NaN  \n",
       "2           5424.0               9848.0       16.0  \n",
       "\n",
       "[3 rows x 39 columns]"
      ]
     },
     "execution_count": 15,
     "metadata": {},
     "output_type": "execute_result"
    }
   ],
   "source": [
    "data.head(3)"
   ]
  },
  {
   "cell_type": "code",
   "execution_count": 19,
   "metadata": {},
   "outputs": [
    {
     "data": {
      "text/plain": [
       "Int64Index([     0,      2,      4,      5,      6,      7,      8,     10,\n",
       "                11,     12,\n",
       "            ...\n",
       "            149025, 149026, 149027, 149028, 149029, 149031, 149032, 149033,\n",
       "            149034, 149035],\n",
       "           dtype='int64', length=91729)"
      ]
     },
     "execution_count": 19,
     "metadata": {},
     "output_type": "execute_result"
    }
   ],
   "source": [
    "data.dropna().index"
   ]
  },
  {
   "cell_type": "code",
   "execution_count": 5,
   "metadata": {},
   "outputs": [],
   "source": [
    "# drop以后会删去所有的训练数据\n",
    "data = data.dropna().reset_index(drop=True)\n",
    "# 用notRepairedDamage特征值的众数替换缺失值，应该只有该特征有 -\n",
    "# 根据该特征的取值，int8就可以了，但是只能将原来的字符型浮点数转换为浮点数，而不能转换为整数，但是float可以转换为整型\n",
    "data['notRepairedDamage'] = data['notRepairedDamage'].replace('-', 0).astype(np.float16).astype(np.int8)\n",
    "\n",
    "train_X = data[continuous_features]\n",
    "train_y = data['price']"
   ]
  },
  {
   "cell_type": "markdown",
   "metadata": {},
   "source": [
    "#### 1 简单建模 & 标签的正态分布"
   ]
  },
  {
   "cell_type": "code",
   "execution_count": 7,
   "metadata": {},
   "outputs": [
    {
     "name": "stdout",
     "output_type": "stream",
     "text": [
      "0.18056178092956543 s\n"
     ]
    }
   ],
   "source": [
    "from sklearn.linear_model import LinearRegression\n",
    "import time\n",
    "start = time.time()\n",
    "# l2正则化， 不加时也是0.18s 左右\n",
    "model = LinearRegression(normalize=True)\n",
    "model = model.fit(train_X, train_y)\n",
    "end = time.time()\n",
    "print(end - start, 's')"
   ]
  },
  {
   "cell_type": "markdown",
   "metadata": {},
   "source": [
    "查看训练的线性回归模型的截距（intercept）与权重(coef)"
   ]
  },
  {
   "cell_type": "code",
   "execution_count": 26,
   "metadata": {},
   "outputs": [
    {
     "name": "stdout",
     "output_type": "stream",
     "text": [
      "intercept:-110670.68277075786\n"
     ]
    },
    {
     "data": {
      "text/plain": [
       "[('v_6', 3367064.341641869),\n",
       " ('v_8', 700675.5609398916),\n",
       " ('v_9', 170630.2772322144),\n",
       " ('v_7', 32322.66193202752),\n",
       " ('v_12', 20473.670796962964),\n",
       " ('v_3', 17868.07954149201),\n",
       " ('v_11', 11474.938996740202),\n",
       " ('v_13', 11261.764560011892),\n",
       " ('v_10', 2683.9200905552707),\n",
       " ('gearbox', 881.8225039249025),\n",
       " ('fuelType', 363.90425072165164),\n",
       " ('bodyType', 189.60271012073065),\n",
       " ('city', 44.94975120522174),\n",
       " ('power', 28.553901616752594),\n",
       " ('brand_price_median', 0.5103728134078995),\n",
       " ('brand_price_std', 0.45036347092633167),\n",
       " ('brand_amount', 0.14881120395065975),\n",
       " ('brand_price_max', 0.0031910186703138377),\n",
       " ('SaleID', 5.35598991985751e-05),\n",
       " ('seller', 4.227447789162397e-06),\n",
       " ('offerType', 1.965701812878251e-06),\n",
       " ('train', -1.5418627299368382e-06),\n",
       " ('brand_price_sum', -2.1750068681876972e-05),\n",
       " ('name', -0.0002980012713042195),\n",
       " ('used_time', -0.0025158943328787604),\n",
       " ('brand_price_average', -0.40490484510115926),\n",
       " ('brand_price_min', -2.2467753486893227),\n",
       " ('power_bin', -34.42064411725974),\n",
       " ('v_14', -274.78411807741304),\n",
       " ('kilometer', -372.89752666073394),\n",
       " ('notRepairedDamage', -495.1903844629476),\n",
       " ('v_0', -2045.0549573541437),\n",
       " ('v_5', -11022.98624053434),\n",
       " ('v_4', -15121.731109854549),\n",
       " ('v_2', -26098.299920545614),\n",
       " ('v_1', -45556.18929732383)]"
      ]
     },
     "execution_count": 26,
     "metadata": {},
     "output_type": "execute_result"
    }
   ],
   "source": [
    "print('intercept:'+ str(model.intercept_))\n",
    "# 权重从大到小排序，字典的排序：按键值排\n",
    "sorted(dict(zip(continuous_features, model.coef_)).items(), key=lambda x: x[1], reverse=True)"
   ]
  },
  {
   "cell_type": "code",
   "execution_count": 8,
   "metadata": {},
   "outputs": [],
   "source": [
    "from matplotlib import pyplot as plt\n",
    "subsample_index = np.random.randint(low=0, high=len(train_y), size=50)"
   ]
  },
  {
   "cell_type": "code",
   "execution_count": 9,
   "metadata": {},
   "outputs": [
    {
     "data": {
      "text/plain": [
       "array([ 2935, 85236,   423, 65532, 35025, 19128, 24593, 56624, 65381,\n",
       "       37612, 43085, 85756, 36780, 87135, 26508, 82274, 53027, 25057,\n",
       "       11802, 12850, 45775, 42446, 43067, 18036, 59371, 47116, 72612,\n",
       "        7620, 57922, 24700, 78801, 63374, 58348, 72164, 16508, 82836,\n",
       "       61343, 40951,  7487,  9629, 28937, 31666, 40871, 34108, 61987,\n",
       "        5501, 11278,  4314, 80833, 55712])"
      ]
     },
     "execution_count": 9,
     "metadata": {},
     "output_type": "execute_result"
    }
   ],
   "source": [
    "subsample_index"
   ]
  },
  {
   "cell_type": "markdown",
   "metadata": {},
   "source": [
    "绘制特征v_9的值（为何单独用这个特征？？）与标签的散点图，图片发现模型的预测结果（蓝色点）与真实标签（黑色点）的分布差异较大，且部分预测值出现了小于0的情况，说明模型存在一些问题"
   ]
  },
  {
   "cell_type": "markdown",
   "metadata": {},
   "source": [
    "**以前在做机器学习的回归模型时，都忘了正态性假定了，也很少有教材会提，自己也没有注意**"
   ]
  },
  {
   "cell_type": "code",
   "execution_count": 10,
   "metadata": {},
   "outputs": [
    {
     "data": {
      "image/png": "[encoded data removed]",
      "text/plain": [
       "<Figure size 432x288 with 1 Axes>"
      ]
     },
     "metadata": {
      "needs_background": "light"
     },
     "output_type": "display_data"
    }
   ],
   "source": [
    "plt.scatter(train_X['v_9'][subsample_index], train_y[subsample_index], color='black')\n",
    "plt.scatter(train_X['v_9'][subsample_index], model.predict(train_X.loc[subsample_index]), color='blue')\n",
    "plt.xlabel('v_9')\n",
    "plt.ylabel('price')\n",
    "plt.legend(['True Price','Predicted Price'], loc='upper right')\n",
    "# print('The predicted price is obvious different from true price')\n",
    "plt.show()"
   ]
  },
  {
   "cell_type": "code",
   "execution_count": 11,
   "metadata": {},
   "outputs": [
    {
     "data": {
      "text/plain": [
       "<matplotlib.axes._subplots.AxesSubplot at 0x1f718e2dd68>"
      ]
     },
     "execution_count": 11,
     "metadata": {},
     "output_type": "execute_result"
    },
    {
     "data": {
      "image/png": "[encoded data removed]",
      "text/plain": [
       "<Figure size 432x288 with 1 Axes>"
      ]
     },
     "metadata": {
      "needs_background": "light"
     },
     "output_type": "display_data"
    }
   ],
   "source": [
    "train_y.plot.hist()"
   ]
  },
  {
   "cell_type": "code",
   "execution_count": 12,
   "metadata": {},
   "outputs": [
    {
     "data": {
      "text/plain": [
       "13.0"
      ]
     },
     "execution_count": 12,
     "metadata": {},
     "output_type": "execute_result"
    }
   ],
   "source": [
    "train_y.min()"
   ]
  },
  {
   "cell_type": "markdown",
   "metadata": {},
   "source": [
    "pandas作图太粗糙了，bins分的不够细"
   ]
  },
  {
   "cell_type": "code",
   "execution_count": 13,
   "metadata": {},
   "outputs": [
    {
     "data": {
      "text/plain": [
       "<matplotlib.axes._subplots.AxesSubplot at 0x1f71b4476d8>"
      ]
     },
     "execution_count": 13,
     "metadata": {},
     "output_type": "execute_result"
    },
    {
     "data": {
      "image/png": "[encoded data removed]",
      "text/plain": [
       "<Figure size 432x288 with 1 Axes>"
      ]
     },
     "metadata": {
      "needs_background": "light"
     },
     "output_type": "display_data"
    }
   ],
   "source": [
    "# 最小值大于0，取对数时可以不加1\n",
    "np.log(train_y).plot.hist()"
   ]
  },
  {
   "cell_type": "markdown",
   "metadata": {},
   "source": [
    "通过作图发现预测目标呈现长尾分布，不利于我们的建模预测。原因是很多模型都**假设数据误差项符合正态分布**，而长尾分布的数据违背了这一假设。"
   ]
  },
  {
   "cell_type": "code",
   "execution_count": 32,
   "metadata": {},
   "outputs": [
    {
     "data": {
      "text/plain": [
       "(14900.0, 3800.0, 3800.0, 99999.0, 99999.0)"
      ]
     },
     "execution_count": 32,
     "metadata": {},
     "output_type": "execute_result"
    }
   ],
   "source": [
    "np.quantile(train_y, 0.9), np.quantile(train_y, 0.5), train_y.median(), np.quantile(train_y, 1), train_y.max()"
   ]
  },
  {
   "cell_type": "code",
   "execution_count": 34,
   "metadata": {},
   "outputs": [
    {
     "data": {
      "text/plain": [
       "((91729,), (82437,))"
      ]
     },
     "execution_count": 34,
     "metadata": {},
     "output_type": "execute_result"
    }
   ],
   "source": [
    "train_y.shape, train_y[train_y < np.quantile(train_y, 0.9)].shape"
   ]
  },
  {
   "cell_type": "code",
   "execution_count": 14,
   "metadata": {},
   "outputs": [
    {
     "data": {
      "text/plain": [
       "<matplotlib.axes._subplots.AxesSubplot at 0x1f71b6d84a8>"
      ]
     },
     "execution_count": 14,
     "metadata": {},
     "output_type": "execute_result"
    },
    {
     "data": {
      "image/png": "[encoded data removed]",
      "text/plain": [
       "<Figure size 1080x360 with 2 Axes>"
      ]
     },
     "metadata": {
      "needs_background": "light"
     },
     "output_type": "display_data"
    }
   ],
   "source": [
    "import seaborn as sns\n",
    "# print('It is clear to see the price shows a typical exponential distribution')\n",
    "plt.figure(figsize=(15,5))\n",
    "\n",
    "# 典型的指数分布\n",
    "plt.subplot(1,2,1)\n",
    "sns.distplot(train_y)\n",
    "\n",
    "# series的bool过滤，去掉尾部数据，但是数据也变小了，而且是否适合测试集呢，如果测试集也存在取值较大的情况，大的异常值造成的预测偏差就会过大了\n",
    "plt.subplot(1,2,2)\n",
    "sns.distplot(train_y[train_y < np.quantile(train_y, 0.9)]) # 90%分位数"
   ]
  },
  {
   "cell_type": "markdown",
   "metadata": {},
   "source": [
    "对标签进行了**log(x+1)变换**，使标签贴近于正态分布，注意要加 1"
   ]
  },
  {
   "cell_type": "code",
   "execution_count": 15,
   "metadata": {},
   "outputs": [],
   "source": [
    "train_y_log = np.log(train_y + 1)"
   ]
  },
  {
   "cell_type": "code",
   "execution_count": 16,
   "metadata": {},
   "outputs": [
    {
     "data": {
      "text/plain": [
       "<matplotlib.axes._subplots.AxesSubplot at 0x1f71b9d3ef0>"
      ]
     },
     "execution_count": 16,
     "metadata": {},
     "output_type": "execute_result"
    },
    {
     "data": {
      "image/png": "[encoded data removed]",
      "text/plain": [
       "<Figure size 1080x360 with 2 Axes>"
      ]
     },
     "metadata": {
      "needs_background": "light"
     },
     "output_type": "display_data"
    }
   ],
   "source": [
    "import seaborn as sns\n",
    "# print('The transformed price seems like normal distribution')\n",
    "plt.figure(figsize=(15,5))\n",
    "\n",
    "plt.subplot(1,2,1)\n",
    "sns.distplot(train_y_log)\n",
    "\n",
    "plt.subplot(1,2,2)\n",
    "sns.distplot(train_y_log[train_y_log < np.quantile(train_y_log, 0.9)])"
   ]
  },
  {
   "cell_type": "code",
   "execution_count": 17,
   "metadata": {},
   "outputs": [
    {
     "name": "stdout",
     "output_type": "stream",
     "text": [
      "总共用时 0.20s\n",
      "intercept:18.750745460095338\n"
     ]
    },
    {
     "data": {
      "text/plain": [
       "[('v_9', 8.052411927760234),\n",
       " ('v_5', 5.7642485022748255),\n",
       " ('v_12', 1.6182066744744632),\n",
       " ('v_1', 1.4798302934397944),\n",
       " ('v_11', 1.1669014496983516),\n",
       " ('v_13', 0.9404706038652693),\n",
       " ('v_7', 0.7137295307901032),\n",
       " ('v_3', 0.6837865320358447),\n",
       " ('v_0', 0.008500525238677578),\n",
       " ('power_bin', 0.00849796722621272),\n",
       " ('gearbox', 0.00792237781994121),\n",
       " ('fuelType', 0.006684768278652474),\n",
       " ('bodyType', 0.004523520659143269),\n",
       " ('power', 0.0007161896117535689),\n",
       " ('brand_price_min', 3.334353082748103e-05),\n",
       " ('brand_amount', 2.897880010254574e-06),\n",
       " ('brand_price_median', 1.2571119996636992e-06),\n",
       " ('brand_price_std', 6.659134278570429e-07),\n",
       " ('brand_price_max', 6.194957240892153e-07),\n",
       " ('brand_price_average', 5.99942948914574e-07),\n",
       " ('SaleID', 2.119416206655112e-08),\n",
       " ('seller', 1.6653167733693408e-10),\n",
       " ('train', -1.8538059975981014e-11),\n",
       " ('offerType', -8.43760616930922e-11),\n",
       " ('brand_price_sum', -1.5126510445823188e-10),\n",
       " ('name', -7.015510649946848e-08),\n",
       " ('used_time', -4.122477171057645e-06),\n",
       " ('city', -0.0022187835425502727),\n",
       " ('v_14', -0.004234186905429224),\n",
       " ('kilometer', -0.013835866887578634),\n",
       " ('notRepairedDamage', -0.2702794206248397),\n",
       " ('v_4', -0.8315696877545984),\n",
       " ('v_2', -0.9470831015205976),\n",
       " ('v_10', -1.6261473673118245),\n",
       " ('v_8', -40.34300698769949),\n",
       " ('v_6', -238.7903582804578)]"
      ]
     },
     "execution_count": 17,
     "metadata": {},
     "output_type": "execute_result"
    }
   ],
   "source": [
    "start = time.time()\n",
    "model = model.fit(train_X, train_y_log)\n",
    "end = time.time()\n",
    "print('总共用时 %.2fs' % (end - start) )\n",
    "\n",
    "print('intercept:'+ str(model.intercept_))\n",
    "sorted(dict(zip(continuous_features, model.coef_)).items(), key=lambda x: x[1], reverse=True)"
   ]
  },
  {
   "cell_type": "markdown",
   "metadata": {},
   "source": [
    "再次进行可视化，发现预测结果与真实值较为接近，且未出现异常状况！！"
   ]
  },
  {
   "cell_type": "code",
   "execution_count": 18,
   "metadata": {},
   "outputs": [
    {
     "data": {
      "image/png": "[encoded data removed]",
      "text/plain": [
       "<Figure size 432x288 with 1 Axes>"
      ]
     },
     "metadata": {
      "needs_background": "light"
     },
     "output_type": "display_data"
    }
   ],
   "source": [
    "plt.scatter(train_X['v_9'][subsample_index], train_y[subsample_index], color='black')\n",
    "# np.exp 将对数还原\n",
    "plt.scatter(train_X['v_9'][subsample_index], np.exp(model.predict(train_X.loc[subsample_index])), color='blue')\n",
    "plt.xlabel('v_9')\n",
    "plt.ylabel('price')\n",
    "plt.legend(['True Price','Predicted Price'], loc='upper right')\n",
    "# print('The predicted price seems normal after np.log transforming')\n",
    "plt.show()"
   ]
  },
  {
   "cell_type": "markdown",
   "metadata": {},
   "source": [
    "#### 2 五折交叉验证"
   ]
  },
  {
   "cell_type": "markdown",
   "metadata": {},
   "source": [
    "客观的评价模型的训练效果，防止过拟合"
   ]
  },
  {
   "cell_type": "code",
   "execution_count": 19,
   "metadata": {},
   "outputs": [],
   "source": [
    "from sklearn.model_selection import cross_val_score\n",
    "from sklearn.metrics import mean_absolute_error,  make_scorer"
   ]
  },
  {
   "cell_type": "code",
   "execution_count": null,
   "metadata": {},
   "outputs": [],
   "source": [
    "# numpy.nan_to_num(x):\n",
    "使用0代替数组x中的nan元素，使用有限的数字(float64的最大值)代替inf元素"
   ]
  },
  {
   "cell_type": "code",
   "execution_count": 51,
   "metadata": {},
   "outputs": [
    {
     "data": {
      "text/plain": [
       "array([[ nan,  inf],\n",
       "       [ nan, -inf]])"
      ]
     },
     "execution_count": 51,
     "metadata": {},
     "output_type": "execute_result"
    }
   ],
   "source": [
    "a = np.array([[np.nan,np.inf], [-np.nan,-np.inf]])\n",
    "a"
   ]
  },
  {
   "cell_type": "code",
   "execution_count": 53,
   "metadata": {},
   "outputs": [
    {
     "name": "stdout",
     "output_type": "stream",
     "text": [
      "float64\n"
     ]
    },
    {
     "data": {
      "text/plain": [
       "array([[ 0.00000000e+000,  1.79769313e+308],\n",
       "       [ 0.00000000e+000, -1.79769313e+308]])"
      ]
     },
     "execution_count": 53,
     "metadata": {},
     "output_type": "execute_result"
    }
   ],
   "source": [
    "b = np.nan_to_num(a)\n",
    "print(b.dtype)\n",
    "b"
   ]
  },
  {
   "cell_type": "code",
   "execution_count": 54,
   "metadata": {},
   "outputs": [
    {
     "data": {
      "text/plain": [
       "finfo(resolution=1e-15, min=-1.7976931348623157e+308, max=1.7976931348623157e+308, dtype=float64)"
      ]
     },
     "execution_count": 54,
     "metadata": {},
     "output_type": "execute_result"
    }
   ],
   "source": [
    "np.finfo(np.float64)"
   ]
  },
  {
   "cell_type": "code",
   "execution_count": 20,
   "metadata": {},
   "outputs": [],
   "source": [
    "def log_transfer(func):\n",
    "    def wrapper(y, yhat):\n",
    "        # func是个评价函数，对这里的预测结果进行对数变换后进行评价\n",
    "        result = func(np.log(y), np.nan_to_num(np.log(yhat)))\n",
    "        return result\n",
    "    # 最后调用的时候 y yhat 是什么，函数内的全部变量？？\n",
    "    return wrapper"
   ]
  },
  {
   "cell_type": "code",
   "execution_count": null,
   "metadata": {},
   "outputs": [],
   "source": [
    "使用线性回归模型，对未处理标签的特征数据进行五折交叉验证"
   ]
  },
  {
   "cell_type": "code",
   "execution_count": 21,
   "metadata": {},
   "outputs": [
    {
     "name": "stderr",
     "output_type": "stream",
     "text": [
      "[Parallel(n_jobs=1)]: Using backend SequentialBackend with 1 concurrent workers.\n",
      "[Parallel(n_jobs=1)]: Done   5 out of   5 | elapsed:    0.8s finished\n"
     ]
    }
   ],
   "source": [
    "#  评价器 make_scorer： use in GridSearchCV and cross_val_score，returns a callable that scores an estimator’s output\n",
    "scores = cross_val_score(model, X=train_X, y=train_y, verbose=1, cv = 5, scoring=make_scorer(log_transfer(mean_absolute_error)))"
   ]
  },
  {
   "cell_type": "markdown",
   "metadata": {},
   "source": [
    "mae的均值"
   ]
  },
  {
   "cell_type": "code",
   "execution_count": 22,
   "metadata": {},
   "outputs": [
    {
     "name": "stdout",
     "output_type": "stream",
     "text": [
      "AVG: 1.3658024042407977\n"
     ]
    }
   ],
   "source": [
    "print('AVG:', np.mean(scores))"
   ]
  },
  {
   "cell_type": "code",
   "execution_count": null,
   "metadata": {},
   "outputs": [],
   "source": [
    "使用线性回归模型，对处理过标签（取log）的特征数据进行五折交叉验证（Error 0.19）"
   ]
  },
  {
   "cell_type": "code",
   "execution_count": 23,
   "metadata": {},
   "outputs": [
    {
     "name": "stderr",
     "output_type": "stream",
     "text": [
      "[Parallel(n_jobs=1)]: Using backend SequentialBackend with 1 concurrent workers.\n",
      "[Parallel(n_jobs=1)]: Done   5 out of   5 | elapsed:    0.7s finished\n"
     ]
    }
   ],
   "source": [
    "scores = cross_val_score(model, X=train_X, y=train_y_log, verbose=1, cv=5, scoring=make_scorer(mean_absolute_error))"
   ]
  },
  {
   "cell_type": "code",
   "execution_count": 24,
   "metadata": {},
   "outputs": [
    {
     "name": "stdout",
     "output_type": "stream",
     "text": [
      "AVG: 0.19325301535176903\n"
     ]
    }
   ],
   "source": [
    "print('AVG:', np.mean(scores))"
   ]
  },
  {
   "cell_type": "code",
   "execution_count": 25,
   "metadata": {},
   "outputs": [
    {
     "data": {
      "text/plain": [
       "array([0.19079176, 0.19375821, 0.194132  , 0.19182523, 0.19575788])"
      ]
     },
     "execution_count": 25,
     "metadata": {},
     "output_type": "execute_result"
    }
   ],
   "source": [
    "scores"
   ]
  },
  {
   "cell_type": "code",
   "execution_count": 26,
   "metadata": {},
   "outputs": [
    {
     "data": {
      "text/html": [
       "<div>\n",
       "<style scoped>\n",
       "    .dataframe tbody tr th:only-of-type {\n",
       "        vertical-align: middle;\n",
       "    }\n",
       "\n",
       "    .dataframe tbody tr th {\n",
       "        vertical-align: top;\n",
       "    }\n",
       "\n",
       "    .dataframe thead th {\n",
       "        text-align: right;\n",
       "    }\n",
       "</style>\n",
       "<table border=\"1\" class=\"dataframe\">\n",
       "  <thead>\n",
       "    <tr style=\"text-align: right;\">\n",
       "      <th></th>\n",
       "      <th>0</th>\n",
       "    </tr>\n",
       "  </thead>\n",
       "  <tbody>\n",
       "    <tr>\n",
       "      <th>0</th>\n",
       "      <td>0.190792</td>\n",
       "    </tr>\n",
       "    <tr>\n",
       "      <th>1</th>\n",
       "      <td>0.193758</td>\n",
       "    </tr>\n",
       "    <tr>\n",
       "      <th>2</th>\n",
       "      <td>0.194132</td>\n",
       "    </tr>\n",
       "    <tr>\n",
       "      <th>3</th>\n",
       "      <td>0.191825</td>\n",
       "    </tr>\n",
       "    <tr>\n",
       "      <th>4</th>\n",
       "      <td>0.195758</td>\n",
       "    </tr>\n",
       "  </tbody>\n",
       "</table>\n",
       "</div>"
      ],
      "text/plain": [
       "          0\n",
       "0  0.190792\n",
       "1  0.193758\n",
       "2  0.194132\n",
       "3  0.191825\n",
       "4  0.195758"
      ]
     },
     "execution_count": 26,
     "metadata": {},
     "output_type": "execute_result"
    }
   ],
   "source": [
    "# 1-d array 也可以转换成 df\n",
    "pd.DataFrame(scores)"
   ]
  },
  {
   "cell_type": "code",
   "execution_count": 27,
   "metadata": {},
   "outputs": [
    {
     "data": {
      "text/html": [
       "<div>\n",
       "<style scoped>\n",
       "    .dataframe tbody tr th:only-of-type {\n",
       "        vertical-align: middle;\n",
       "    }\n",
       "\n",
       "    .dataframe tbody tr th {\n",
       "        vertical-align: top;\n",
       "    }\n",
       "\n",
       "    .dataframe thead th {\n",
       "        text-align: right;\n",
       "    }\n",
       "</style>\n",
       "<table border=\"1\" class=\"dataframe\">\n",
       "  <thead>\n",
       "    <tr style=\"text-align: right;\">\n",
       "      <th></th>\n",
       "      <th>cv1</th>\n",
       "      <th>cv2</th>\n",
       "      <th>cv3</th>\n",
       "      <th>cv4</th>\n",
       "      <th>cv5</th>\n",
       "    </tr>\n",
       "  </thead>\n",
       "  <tbody>\n",
       "    <tr>\n",
       "      <th>MAE</th>\n",
       "      <td>0.190792</td>\n",
       "      <td>0.193758</td>\n",
       "      <td>0.194132</td>\n",
       "      <td>0.191825</td>\n",
       "      <td>0.195758</td>\n",
       "    </tr>\n",
       "  </tbody>\n",
       "</table>\n",
       "</div>"
      ],
      "text/plain": [
       "          cv1       cv2       cv3       cv4       cv5\n",
       "MAE  0.190792  0.193758  0.194132  0.191825  0.195758"
      ]
     },
     "execution_count": 27,
     "metadata": {},
     "output_type": "execute_result"
    }
   ],
   "source": [
    "scores = pd.DataFrame(scores.reshape(1,-1))\n",
    "scores.columns = ['cv' + str(x) for x in range(1, 6)]\n",
    "scores.index = ['MAE']\n",
    "scores"
   ]
  },
  {
   "cell_type": "markdown",
   "metadata": {},
   "source": [
    "#### 3 模拟真实业务情况"
   ]
  },
  {
   "cell_type": "markdown",
   "metadata": {},
   "source": [
    "但在事实上，由于我们并不具有预知未来的能力，五折交叉验证在某些**与时间相关**的数据集上反而反映了不真实的情况。通过2018年的二手车价格预测2017年的二手车价格，这显然是不合理的，因此我们还可以采用时间顺序对数据集进行分隔。在本例中，我们选用靠前时间的4/5样本当作训练集，靠后时间的1/5当作验证集，最终结果与五折交叉验证差距不大"
   ]
  },
  {
   "cell_type": "code",
   "execution_count": null,
   "metadata": {},
   "outputs": [],
   "source": [
    "import datetime"
   ]
  },
  {
   "cell_type": "code",
   "execution_count": 28,
   "metadata": {},
   "outputs": [
    {
     "data": {
      "text/plain": [
       "Index([], dtype='object')"
      ]
     },
     "execution_count": 28,
     "metadata": {},
     "output_type": "execute_result"
    }
   ],
   "source": [
    "data.columns[data.isnull().any()]"
   ]
  },
  {
   "cell_type": "code",
   "execution_count": 29,
   "metadata": {},
   "outputs": [
    {
     "name": "stdout",
     "output_type": "stream",
     "text": [
      "<class 'pandas.core.frame.DataFrame'>\n",
      "RangeIndex: 91729 entries, 0 to 91728\n",
      "Data columns (total 39 columns):\n",
      "SaleID                 91729 non-null int32\n",
      "bodyType               91729 non-null float16\n",
      "brand                  91729 non-null int8\n",
      "fuelType               91729 non-null float16\n",
      "gearbox                91729 non-null float16\n",
      "kilometer              91729 non-null float16\n",
      "model                  91729 non-null float16\n",
      "name                   91729 non-null int32\n",
      "notRepairedDamage      91729 non-null int8\n",
      "offerType              91729 non-null int8\n",
      "power                  91729 non-null int16\n",
      "price                  91729 non-null float32\n",
      "seller                 91729 non-null int8\n",
      "train                  91729 non-null int8\n",
      "v_0                    91729 non-null float16\n",
      "v_1                    91729 non-null float16\n",
      "v_10                   91729 non-null float16\n",
      "v_11                   91729 non-null float16\n",
      "v_12                   91729 non-null float16\n",
      "v_13                   91729 non-null float16\n",
      "v_14                   91729 non-null float16\n",
      "v_2                    91729 non-null float16\n",
      "v_3                    91729 non-null float16\n",
      "v_4                    91729 non-null float16\n",
      "v_5                    91729 non-null float16\n",
      "v_6                    91729 non-null float16\n",
      "v_7                    91729 non-null float16\n",
      "v_8                    91729 non-null float16\n",
      "v_9                    91729 non-null float16\n",
      "used_time              91729 non-null float16\n",
      "city                   91729 non-null float16\n",
      "brand_amount           91729 non-null float16\n",
      "brand_price_max        91729 non-null float32\n",
      "brand_price_median     91729 non-null float16\n",
      "brand_price_min        91729 non-null float16\n",
      "brand_price_sum        91729 non-null float32\n",
      "brand_price_std        91729 non-null float16\n",
      "brand_price_average    91729 non-null float16\n",
      "power_bin              91729 non-null float16\n",
      "dtypes: float16(28), float32(3), int16(1), int32(2), int8(5)\n",
      "memory usage: 7.3 MB\n"
     ]
    }
   ],
   "source": [
    "data.info()"
   ]
  },
  {
   "cell_type": "code",
   "execution_count": 30,
   "metadata": {},
   "outputs": [
    {
     "data": {
      "text/plain": [
       "RangeIndex(start=0, stop=91729, step=1)"
      ]
     },
     "execution_count": 30,
     "metadata": {},
     "output_type": "execute_result"
    }
   ],
   "source": [
    "data.index"
   ]
  },
  {
   "cell_type": "code",
   "execution_count": 33,
   "metadata": {},
   "outputs": [
    {
     "data": {
      "text/plain": [
       "Index(['SaleID', 'bodyType', 'brand', 'fuelType', 'gearbox', 'kilometer',\n",
       "       'model', 'name', 'notRepairedDamage', 'offerType', 'power', 'price',\n",
       "       'seller', 'train', 'v_0', 'v_1', 'v_10', 'v_11', 'v_12', 'v_13', 'v_14',\n",
       "       'v_2', 'v_3', 'v_4', 'v_5', 'v_6', 'v_7', 'v_8', 'v_9', 'used_time',\n",
       "       'city', 'brand_amount', 'brand_price_max', 'brand_price_median',\n",
       "       'brand_price_min', 'brand_price_sum', 'brand_price_std',\n",
       "       'brand_price_average', 'power_bin'],\n",
       "      dtype='object')"
      ]
     },
     "execution_count": 33,
     "metadata": {},
     "output_type": "execute_result"
    }
   ],
   "source": [
    "data.columns"
   ]
  },
  {
   "cell_type": "code",
   "execution_count": 31,
   "metadata": {},
   "outputs": [
    {
     "data": {
      "text/plain": [
       "RangeIndex(start=0, stop=91729, step=1)"
      ]
     },
     "execution_count": 31,
     "metadata": {},
     "output_type": "execute_result"
    }
   ],
   "source": [
    "data.reset_index().index"
   ]
  },
  {
   "cell_type": "code",
   "execution_count": 32,
   "metadata": {},
   "outputs": [
    {
     "data": {
      "text/plain": [
       "Index(['index', 'SaleID', 'bodyType', 'brand', 'fuelType', 'gearbox',\n",
       "       'kilometer', 'model', 'name', 'notRepairedDamage', 'offerType', 'power',\n",
       "       'price', 'seller', 'train', 'v_0', 'v_1', 'v_10', 'v_11', 'v_12',\n",
       "       'v_13', 'v_14', 'v_2', 'v_3', 'v_4', 'v_5', 'v_6', 'v_7', 'v_8', 'v_9',\n",
       "       'used_time', 'city', 'brand_amount', 'brand_price_max',\n",
       "       'brand_price_median', 'brand_price_min', 'brand_price_sum',\n",
       "       'brand_price_std', 'brand_price_average', 'power_bin'],\n",
       "      dtype='object')"
      ]
     },
     "execution_count": 32,
     "metadata": {},
     "output_type": "execute_result"
    }
   ],
   "source": [
    "data.reset_index().columns"
   ]
  },
  {
   "cell_type": "code",
   "execution_count": 34,
   "metadata": {},
   "outputs": [],
   "source": [
    "# reset_index()可以还原索引，重新变为默认的整型索引; drop为False则原来的索引列会被还原为普通列放在开头，为True则会被丢失\n",
    "# data = data.reset_index(drop=True) 没有必要，本来的索引就是整型\n",
    "# 分隔点\n",
    "split_point = len(data) // 5 * 4"
   ]
  },
  {
   "cell_type": "code",
   "execution_count": null,
   "metadata": {},
   "outputs": [],
   "source": [
    "# DataFrame可以通过set_index方法，可以设置单索引和复合索引。\n",
    "DataFrame.set_index(keys, drop=True, append=False, inplace=False, verify_integrity=False) "
   ]
  },
  {
   "cell_type": "code",
   "execution_count": 35,
   "metadata": {},
   "outputs": [],
   "source": [
    "# 前面已经删除过缺失值了\n",
    "train = data.loc[:split_point]\n",
    "val = data.loc[split_point:]\n",
    "\n",
    "train_X = train[continuous_features]\n",
    "train_y_log = np.log(train['price'] + 1)\n",
    "val_X = val[continuous_features]\n",
    "val_y_log = np.log(val['price'] + 1)"
   ]
  },
  {
   "cell_type": "code",
   "execution_count": 38,
   "metadata": {},
   "outputs": [
    {
     "name": "stdout",
     "output_type": "stream",
     "text": [
      "0.15 s\n"
     ]
    }
   ],
   "source": [
    "start = time.time()\n",
    "model = model.fit(train_X, train_y_log)\n",
    "end = time.time()\n",
    "print('%.2f s' % (end - start))"
   ]
  },
  {
   "cell_type": "markdown",
   "metadata": {},
   "source": [
    "按照时间划分后，预测性能无太大变化，所以得出按照时间划分意义不大！！"
   ]
  },
  {
   "cell_type": "code",
   "execution_count": 39,
   "metadata": {},
   "outputs": [
    {
     "data": {
      "text/plain": [
       "0.19577667040507357"
      ]
     },
     "execution_count": 39,
     "metadata": {},
     "output_type": "execute_result"
    }
   ],
   "source": [
    "# 预测出来的结果就是对数形式的\n",
    "mean_absolute_error(val_y_log, model.predict(val_X))"
   ]
  },
  {
   "cell_type": "markdown",
   "metadata": {},
   "source": [
    "#### 4 绘制学习率曲线与验证曲线\n",
    "学习率曲线验证样本数量与学习性能之间的关系，但是**没有按照时间划分**"
   ]
  },
  {
   "cell_type": "code",
   "execution_count": 60,
   "metadata": {},
   "outputs": [],
   "source": [
    "from sklearn.model_selection import learning_curve, validation_curve\n",
    "\n",
    "def plot_learning_curve(estimator, title, X, y, ylim=None, cv=None, n_jobs=1, train_size=np.linspace(0.1, 1.0, 4)):  \n",
    "    plt.figure()  \n",
    "    plt.title(title)  \n",
    "    if ylim is not None:\n",
    "        # 参数以元组形式被接受\n",
    "        plt.ylim(*ylim)  \n",
    "    plt.xlabel('numbers of Training example')  \n",
    "    plt.ylabel('score')  \n",
    "    # learning_curve函数默认的 cv 是五折\n",
    "    train_sizes, train_scores, test_scores = learning_curve(estimator, X, y, cv=cv, n_jobs=n_jobs, train_sizes=train_size, \n",
    "                                                            scoring = make_scorer(mean_absolute_error)) \n",
    "    print(train_scores)\n",
    "    print(test_scores)\n",
    "    # 返回的结果都是 2-d array，shape (n_ticks, n_cv_folds)，每行是某个train_size下所有cv的scores\n",
    "    train_scores_mean = np.mean(train_scores, axis=1)  \n",
    "    train_scores_std = np.std(train_scores, axis=1)  \n",
    "    test_scores_mean = np.mean(test_scores, axis=1)  \n",
    "    test_scores_std = np.std(test_scores, axis=1)  \n",
    "    \n",
    "    # 生成网格,先再画两条线，再填充\n",
    "    plt.grid()\n",
    "    plt.plot(train_sizes, train_scores_mean, 'o-', color='r', label=\"Training score\") \n",
    "    plt.fill_between(train_sizes, train_scores_mean - train_scores_std, train_scores_mean + train_scores_std, alpha=0.1, color=\"r\")     \n",
    "    plt.plot(train_sizes, test_scores_mean,'o-',color=\"g\", label=\"Cross-validation score\")  \n",
    "    plt.fill_between(train_sizes, test_scores_mean - test_scores_std, test_scores_mean + test_scores_std, alpha=0.1, color=\"g\")\n",
    "    plt.legend(loc=\"best\")  \n",
    "    return plt  "
   ]
  },
  {
   "cell_type": "code",
   "execution_count": 61,
   "metadata": {},
   "outputs": [
    {
     "name": "stdout",
     "output_type": "stream",
     "text": [
      "[[0.13947291 0.14438067 0.14438067 0.14438067 0.14438067]\n",
      " [0.16756154 0.16932819 0.1673073  0.1673073  0.1673073 ]\n",
      " [0.18848625 0.18998177 0.17464052 0.1746184  0.1746184 ]\n",
      " [0.18169766 0.18309088 0.1738922  0.18115452 0.18187982]]\n",
      "[[0.38559427 0.76583317 1.40242331 1.86605121 2.48258257]\n",
      " [0.20900804 0.19114955 0.2254299  0.205848   0.21533467]\n",
      " [0.19990851 0.18311713 0.21211396 0.19585196 0.18742677]\n",
      " [0.18776207 0.18088496 0.20557873 0.19440749 0.18472851]]\n"
     ]
    },
    {
     "data": {
      "text/plain": [
       "<module 'matplotlib.pyplot' from 'd:\\\\softwares\\\\anaconda\\\\envs\\\\tf\\\\lib\\\\site-packages\\\\matplotlib\\\\pyplot.py'>"
      ]
     },
     "execution_count": 61,
     "metadata": {},
     "output_type": "execute_result"
    },
    {
     "data": {
      "image/png": "[encoded data removed]",
      "text/plain": [
       "<Figure size 432x288 with 1 Axes>"
      ]
     },
     "metadata": {
      "needs_background": "light"
     },
     "output_type": "display_data"
    }
   ],
   "source": [
    "# 我的测试集的结果比较不稳定\n",
    "plot_learning_curve(LinearRegression(normalize=True), 'Liner_model', train_X[:1000], train_y_log[:1000], ylim=(0.0, 2), cv=5, n_jobs=1)  "
   ]
  },
  {
   "cell_type": "markdown",
   "metadata": {},
   "source": [
    "验证曲线验证不同的参数取值与学习性能之间的关系"
   ]
  },
  {
   "cell_type": "markdown",
   "metadata": {},
   "source": [
    "### 二、多种模型对比\n",
    "**没有按照时间划分**"
   ]
  },
  {
   "cell_type": "code",
   "execution_count": 63,
   "metadata": {},
   "outputs": [],
   "source": [
    "train_X = data[continuous_features]\n",
    "train_y = data['price']\n",
    "train_y_log = np.log(train_y + 1)"
   ]
  },
  {
   "cell_type": "markdown",
   "metadata": {},
   "source": [
    "#### 1 线性模型 & 嵌入式特征选择\n",
    "默认已经了解过拟合、模型复杂度、正则化等概念"
   ]
  },
  {
   "cell_type": "markdown",
   "metadata": {},
   "source": [
    "在过滤式和包裹式特征选择方法中，特征选择过程与学习器训练过程明显分开。而嵌入式特征选择在学习器训练过程中自动地进行特征选择。嵌入式选择最常用的是L1正则化与L2正则化。在对线性回归模型加入两种正则化方法后，他们分别变成了岭回归与Lasso回归。"
   ]
  },
  {
   "cell_type": "code",
   "execution_count": 64,
   "metadata": {},
   "outputs": [],
   "source": [
    "from sklearn.linear_model import Ridge, Lasso"
   ]
  },
  {
   "cell_type": "code",
   "execution_count": 79,
   "metadata": {},
   "outputs": [],
   "source": [
    "models = [LinearRegression(),\n",
    "          LinearRegression(normalize=True),\n",
    "          Ridge(),\n",
    "          Lasso()]"
   ]
  },
  {
   "cell_type": "code",
   "execution_count": 84,
   "metadata": {},
   "outputs": [
    {
     "name": "stdout",
     "output_type": "stream",
     "text": [
      "LinearRegression(copy_X=True, fit_intercept=True, n_jobs=None, normalize=False) \t LinearRegression0\n",
      "LinearRegression(copy_X=True, fit_intercept=True, n_jobs=None, normalize=True) \t LinearRegression1\n",
      "Ridge(alpha=1.0, copy_X=True, fit_intercept=True, max_iter=None,\n",
      "      normalize=False, random_state=None, solver='auto', tol=0.001) \t Ridge2\n",
      "Lasso(alpha=1.0, copy_X=True, fit_intercept=True, max_iter=1000,\n",
      "      normalize=False, positive=False, precompute=False, random_state=None,\n",
      "      selection='cyclic', tol=0.0001, warm_start=False) \t Lasso3\n"
     ]
    }
   ],
   "source": [
    "for i, model in enumerate(models):\n",
    "    print(str(model), '\\t', str(model).split('(')[0] + str(i))"
   ]
  },
  {
   "cell_type": "code",
   "execution_count": 86,
   "metadata": {},
   "outputs": [
    {
     "name": "stdout",
     "output_type": "stream",
     "text": [
      "LinearRegression0 is finished，用时0.82s\n",
      "LinearRegression1 is finished，用时0.84s\n",
      "Ridge2 is finished，用时0.45s\n",
      "Lasso3 is finished，用时11.36s\n"
     ]
    }
   ],
   "source": [
    "result = dict()\n",
    "for i, model in enumerate(models):\n",
    "    model_name = str(model).split('(')[0] + str(i)\n",
    "    start = time.time()\n",
    "    # 每个模型做5折交叉验证\n",
    "    scores = cross_val_score(model, X=train_X, y=train_y_log, verbose=0, cv=5, scoring=make_scorer(mean_absolute_error))\n",
    "    # scores是验证集的score，是 1-d array，shape=(cv, )\n",
    "    # 相同的键值只能有一个，取第二次的\n",
    "    result[model_name] = scores\n",
    "    end = time.time()\n",
    "    # 格式化输出，必须加 :\n",
    "    print('{} is finished，用时{:.2f}s'.format(model_name, (end-start)))"
   ]
  },
  {
   "cell_type": "markdown",
   "metadata": {},
   "source": [
    "四种模型的结果对比"
   ]
  },
  {
   "cell_type": "code",
   "execution_count": 87,
   "metadata": {},
   "outputs": [
    {
     "data": {
      "text/html": [
       "<div>\n",
       "<style scoped>\n",
       "    .dataframe tbody tr th:only-of-type {\n",
       "        vertical-align: middle;\n",
       "    }\n",
       "\n",
       "    .dataframe tbody tr th {\n",
       "        vertical-align: top;\n",
       "    }\n",
       "\n",
       "    .dataframe thead th {\n",
       "        text-align: right;\n",
       "    }\n",
       "</style>\n",
       "<table border=\"1\" class=\"dataframe\">\n",
       "  <thead>\n",
       "    <tr style=\"text-align: right;\">\n",
       "      <th></th>\n",
       "      <th>LinearRegression0</th>\n",
       "      <th>LinearRegression1</th>\n",
       "      <th>Ridge2</th>\n",
       "      <th>Lasso3</th>\n",
       "    </tr>\n",
       "  </thead>\n",
       "  <tbody>\n",
       "    <tr>\n",
       "      <th>cv1</th>\n",
       "      <td>0.190792</td>\n",
       "      <td>0.190792</td>\n",
       "      <td>0.194832</td>\n",
       "      <td>0.383899</td>\n",
       "    </tr>\n",
       "    <tr>\n",
       "      <th>cv2</th>\n",
       "      <td>0.193758</td>\n",
       "      <td>0.193758</td>\n",
       "      <td>0.197632</td>\n",
       "      <td>0.381893</td>\n",
       "    </tr>\n",
       "    <tr>\n",
       "      <th>cv3</th>\n",
       "      <td>0.194132</td>\n",
       "      <td>0.194132</td>\n",
       "      <td>0.198123</td>\n",
       "      <td>0.384090</td>\n",
       "    </tr>\n",
       "    <tr>\n",
       "      <th>cv4</th>\n",
       "      <td>0.191825</td>\n",
       "      <td>0.191825</td>\n",
       "      <td>0.195670</td>\n",
       "      <td>0.380526</td>\n",
       "    </tr>\n",
       "    <tr>\n",
       "      <th>cv5</th>\n",
       "      <td>0.195758</td>\n",
       "      <td>0.195758</td>\n",
       "      <td>0.199676</td>\n",
       "      <td>0.383611</td>\n",
       "    </tr>\n",
       "  </tbody>\n",
       "</table>\n",
       "</div>"
      ],
      "text/plain": [
       "     LinearRegression0  LinearRegression1    Ridge2    Lasso3\n",
       "cv1           0.190792           0.190792  0.194832  0.383899\n",
       "cv2           0.193758           0.193758  0.197632  0.381893\n",
       "cv3           0.194132           0.194132  0.198123  0.384090\n",
       "cv4           0.191825           0.191825  0.195670  0.380526\n",
       "cv5           0.195758           0.195758  0.199676  0.383611"
      ]
     },
     "execution_count": 87,
     "metadata": {},
     "output_type": "execute_result"
    }
   ],
   "source": [
    "result = pd.DataFrame(result)\n",
    "result.index = ['cv' + str(x) for x in range(1, 6)]\n",
    "result"
   ]
  },
  {
   "cell_type": "markdown",
   "metadata": {},
   "source": [
    "画出每个特征的重要性大小"
   ]
  },
  {
   "cell_type": "code",
   "execution_count": 88,
   "metadata": {},
   "outputs": [
    {
     "name": "stdout",
     "output_type": "stream",
     "text": [
      "intercept:18.750745393780893\n"
     ]
    },
    {
     "data": {
      "text/plain": [
       "<matplotlib.axes._subplots.AxesSubplot at 0x1f71be992e8>"
      ]
     },
     "execution_count": 88,
     "metadata": {},
     "output_type": "execute_result"
    },
    {
     "data": {
      "image/png": "[encoded data removed]",
      "text/plain": [
       "<Figure size 432x288 with 1 Axes>"
      ]
     },
     "metadata": {
      "needs_background": "light"
     },
     "output_type": "display_data"
    }
   ],
   "source": [
    "model = LinearRegression().fit(train_X, train_y_log)\n",
    "print('intercept:'+ str(model.intercept_))\n",
    "sns.barplot(abs(model.coef_), continuous_features)"
   ]
  },
  {
   "cell_type": "markdown",
   "metadata": {},
   "source": [
    "normalize只是加入L2正则化（**但是又不等价于ridge，为何？？**），如果想要数据标准化(standardize), 使用sklearn.preprocessing.StandardScaler"
   ]
  },
  {
   "cell_type": "code",
   "execution_count": 90,
   "metadata": {},
   "outputs": [
    {
     "name": "stdout",
     "output_type": "stream",
     "text": [
      "intercept:18.750745460095338\n"
     ]
    },
    {
     "data": {
      "text/plain": [
       "<matplotlib.axes._subplots.AxesSubplot at 0x1f71927eba8>"
      ]
     },
     "execution_count": 90,
     "metadata": {},
     "output_type": "execute_result"
    },
    {
     "data": {
      "image/png": "[encoded data removed]",
      "text/plain": [
       "<Figure size 432x288 with 1 Axes>"
      ]
     },
     "metadata": {
      "needs_background": "light"
     },
     "output_type": "display_data"
    }
   ],
   "source": [
    "model = LinearRegression(normalize=True).fit(train_X, train_y_log)\n",
    "print('intercept:'+ str(model.intercept_))\n",
    "sns.barplot(abs(model.coef_), continuous_features)"
   ]
  },
  {
   "cell_type": "markdown",
   "metadata": {},
   "source": [
    "L2正则化在拟合过程中倾向于构造一个所有参数都比较小、比较简单的模型，增强泛化性能，一定程度上避免过拟合。  \n",
    "可以设想一下对于一个线性回归方程，若参数很大，那么只要数据偏移一点点，就会对结果造成很大的影响；但如果参数足够小，数据偏移得多一点也不会对结果造成什么影响，专业一点的说法是**抗扰动能力强**"
   ]
  },
  {
   "cell_type": "code",
   "execution_count": 91,
   "metadata": {},
   "outputs": [
    {
     "name": "stdout",
     "output_type": "stream",
     "text": [
      "intercept:4.67171085713669\n"
     ]
    },
    {
     "data": {
      "text/plain": [
       "<matplotlib.axes._subplots.AxesSubplot at 0x1f71c0732e8>"
      ]
     },
     "execution_count": 91,
     "metadata": {},
     "output_type": "execute_result"
    },
    {
     "data": {
      "image/png": "[encoded data removed]",
      "text/plain": [
       "<Figure size 432x288 with 1 Axes>"
      ]
     },
     "metadata": {
      "needs_background": "light"
     },
     "output_type": "display_data"
    }
   ],
   "source": [
    "model = Ridge().fit(train_X, train_y_log)\n",
    "print('intercept:'+ str(model.intercept_))\n",
    "sns.barplot(abs(model.coef_), continuous_features)"
   ]
  },
  {
   "cell_type": "markdown",
   "metadata": {},
   "source": [
    "L1正则化有助于生成一个稀疏权值矩阵，进而可以用于特征选择。如下图，我们发现**power与userd_time特征**非常重要"
   ]
  },
  {
   "cell_type": "code",
   "execution_count": 92,
   "metadata": {},
   "outputs": [
    {
     "name": "stdout",
     "output_type": "stream",
     "text": [
      "intercept:8.672182395725445\n"
     ]
    },
    {
     "data": {
      "text/plain": [
       "<matplotlib.axes._subplots.AxesSubplot at 0x1f71c1f02b0>"
      ]
     },
     "execution_count": 92,
     "metadata": {},
     "output_type": "execute_result"
    },
    {
     "data": {
      "image/png": "[encoded data removed]",
      "text/plain": [
       "<Figure size 432x288 with 1 Axes>"
      ]
     },
     "metadata": {
      "needs_background": "light"
     },
     "output_type": "display_data"
    }
   ],
   "source": [
    "model = Lasso().fit(train_X, train_y_log)\n",
    "print('intercept:'+ str(model.intercept_))\n",
    "sns.barplot(abs(model.coef_), continuous_features)"
   ]
  },
  {
   "cell_type": "markdown",
   "metadata": {},
   "source": [
    "除此之外，决策树通过信息熵或GINI指数选择分裂节点时，**优先选择的分裂特征更比其他特征更重要**，这同样是一种特征选择的方法。XGBoost与LightGBM模型中的model_importance指标正是基于此计算的"
   ]
  },
  {
   "cell_type": "markdown",
   "metadata": {},
   "source": [
    "#### 2 非线性模型"
   ]
  },
  {
   "cell_type": "markdown",
   "metadata": {},
   "source": [
    "选择部分常用模型与线性模型进行效果比对"
   ]
  },
  {
   "cell_type": "code",
   "execution_count": 93,
   "metadata": {},
   "outputs": [],
   "source": [
    "from sklearn.svm import SVC\n",
    "from sklearn.tree import DecisionTreeRegressor\n",
    "from sklearn.ensemble import RandomForestRegressor\n",
    "from sklearn.ensemble import GradientBoostingRegressor\n",
    "from sklearn.neural_network import MLPRegressor\n",
    "from xgboost.sklearn import XGBRegressor\n",
    "from lightgbm.sklearn import LGBMRegressor"
   ]
  },
  {
   "cell_type": "code",
   "execution_count": 94,
   "metadata": {},
   "outputs": [],
   "source": [
    "models = [LinearRegression(),\n",
    "          DecisionTreeRegressor(),\n",
    "          RandomForestRegressor(),\n",
    "          GradientBoostingRegressor(),\n",
    "          MLPRegressor(solver='lbfgs', max_iter=100), \n",
    "          XGBRegressor(n_estimators = 100, objective='reg:squarederror'), \n",
    "          LGBMRegressor(n_estimators = 100)]"
   ]
  },
  {
   "cell_type": "markdown",
   "metadata": {},
   "source": [
    "**MLP ???**"
   ]
  },
  {
   "cell_type": "code",
   "execution_count": 95,
   "metadata": {},
   "outputs": [
    {
     "name": "stdout",
     "output_type": "stream",
     "text": [
      "LinearRegression is finished，用时0.84s\n",
      "DecisionTreeRegressor is finished，用时15.21s\n",
      "RandomForestRegressor is finished，用时56.60s\n",
      "GradientBoostingRegressor is finished，用时51.20s\n",
      "MLPRegressor is finished，用时146.41s\n",
      "XGBRegressor is finished，用时52.32s\n",
      "LGBMRegressor is finished，用时8.81s\n"
     ]
    }
   ],
   "source": [
    "result = dict()\n",
    "for model in models:\n",
    "    model_name = str(model).split('(')[0]\n",
    "    start = time.time()\n",
    "    # 每个模型做5折交叉验证\n",
    "    scores = cross_val_score(model, X=train_X, y=train_y_log, verbose=0, cv=5, scoring=make_scorer(mean_absolute_error))\n",
    "    # scores是验证集的score，是 1-d array，shape=(cv, )\n",
    "    result[model_name] = scores\n",
    "    end = time.time()\n",
    "    # 格式化输出，必须加 :\n",
    "    print('{} is finished，用时{:.2f}s'.format(model_name, (end-start)))"
   ]
  },
  {
   "cell_type": "code",
   "execution_count": 96,
   "metadata": {},
   "outputs": [
    {
     "data": {
      "text/html": [
       "<div>\n",
       "<style scoped>\n",
       "    .dataframe tbody tr th:only-of-type {\n",
       "        vertical-align: middle;\n",
       "    }\n",
       "\n",
       "    .dataframe tbody tr th {\n",
       "        vertical-align: top;\n",
       "    }\n",
       "\n",
       "    .dataframe thead th {\n",
       "        text-align: right;\n",
       "    }\n",
       "</style>\n",
       "<table border=\"1\" class=\"dataframe\">\n",
       "  <thead>\n",
       "    <tr style=\"text-align: right;\">\n",
       "      <th></th>\n",
       "      <th>LinearRegression</th>\n",
       "      <th>DecisionTreeRegressor</th>\n",
       "      <th>RandomForestRegressor</th>\n",
       "      <th>GradientBoostingRegressor</th>\n",
       "      <th>MLPRegressor</th>\n",
       "      <th>XGBRegressor</th>\n",
       "      <th>LGBMRegressor</th>\n",
       "    </tr>\n",
       "  </thead>\n",
       "  <tbody>\n",
       "    <tr>\n",
       "      <th>cv1</th>\n",
       "      <td>0.190792</td>\n",
       "      <td>0.198361</td>\n",
       "      <td>0.141340</td>\n",
       "      <td>0.168902</td>\n",
       "      <td>507.319356</td>\n",
       "      <td>0.169990</td>\n",
       "      <td>0.141546</td>\n",
       "    </tr>\n",
       "    <tr>\n",
       "      <th>cv2</th>\n",
       "      <td>0.193758</td>\n",
       "      <td>0.192586</td>\n",
       "      <td>0.142059</td>\n",
       "      <td>0.171846</td>\n",
       "      <td>1585.998402</td>\n",
       "      <td>0.171826</td>\n",
       "      <td>0.145501</td>\n",
       "    </tr>\n",
       "    <tr>\n",
       "      <th>cv3</th>\n",
       "      <td>0.194132</td>\n",
       "      <td>0.190343</td>\n",
       "      <td>0.142343</td>\n",
       "      <td>0.170935</td>\n",
       "      <td>259.742027</td>\n",
       "      <td>0.172115</td>\n",
       "      <td>0.143887</td>\n",
       "    </tr>\n",
       "    <tr>\n",
       "      <th>cv4</th>\n",
       "      <td>0.191825</td>\n",
       "      <td>0.189803</td>\n",
       "      <td>0.141676</td>\n",
       "      <td>0.169083</td>\n",
       "      <td>502.157617</td>\n",
       "      <td>0.169635</td>\n",
       "      <td>0.142497</td>\n",
       "    </tr>\n",
       "    <tr>\n",
       "      <th>cv5</th>\n",
       "      <td>0.195758</td>\n",
       "      <td>0.204340</td>\n",
       "      <td>0.146941</td>\n",
       "      <td>0.174094</td>\n",
       "      <td>1120.167496</td>\n",
       "      <td>0.172824</td>\n",
       "      <td>0.144852</td>\n",
       "    </tr>\n",
       "  </tbody>\n",
       "</table>\n",
       "</div>"
      ],
      "text/plain": [
       "     LinearRegression  DecisionTreeRegressor  RandomForestRegressor  \\\n",
       "cv1          0.190792               0.198361               0.141340   \n",
       "cv2          0.193758               0.192586               0.142059   \n",
       "cv3          0.194132               0.190343               0.142343   \n",
       "cv4          0.191825               0.189803               0.141676   \n",
       "cv5          0.195758               0.204340               0.146941   \n",
       "\n",
       "     GradientBoostingRegressor  MLPRegressor  XGBRegressor  LGBMRegressor  \n",
       "cv1                   0.168902    507.319356      0.169990       0.141546  \n",
       "cv2                   0.171846   1585.998402      0.171826       0.145501  \n",
       "cv3                   0.170935    259.742027      0.172115       0.143887  \n",
       "cv4                   0.169083    502.157617      0.169635       0.142497  \n",
       "cv5                   0.174094   1120.167496      0.172824       0.144852  "
      ]
     },
     "execution_count": 96,
     "metadata": {},
     "output_type": "execute_result"
    }
   ],
   "source": [
    "result = pd.DataFrame(result)\n",
    "result.index = ['cv' + str(x) for x in range(1, 6)]\n",
    "result"
   ]
  },
  {
   "cell_type": "code",
   "execution_count": 117,
   "metadata": {},
   "outputs": [
    {
     "data": {
      "text/plain": [
       "LinearRegression               0.193253\n",
       "DecisionTreeRegressor          0.195087\n",
       "RandomForestRegressor          0.142872\n",
       "GradientBoostingRegressor      0.170972\n",
       "MLPRegressor                 795.076980\n",
       "XGBRegressor                   0.171278\n",
       "LGBMRegressor                  0.143656\n",
       "dtype: float64"
      ]
     },
     "execution_count": 117,
     "metadata": {},
     "output_type": "execute_result"
    }
   ],
   "source": [
    "result.mean(axis=0)"
   ]
  },
  {
   "cell_type": "markdown",
   "metadata": {},
   "source": [
    "可以看到随机森林模型在几乎每一个fold中均取得了最好的效果，lgb的效果也不错"
   ]
  },
  {
   "cell_type": "markdown",
   "metadata": {},
   "source": [
    "### 三、模型调参"
   ]
  },
  {
   "cell_type": "markdown",
   "metadata": {},
   "source": [
    "三种常用的调参方法：贪心算法、网格调参、贝叶斯调参，为了防止过拟合，评价的是测试基的数据"
   ]
  },
  {
   "cell_type": "markdown",
   "metadata": {},
   "source": [
    "只调了lgb模型"
   ]
  },
  {
   "cell_type": "markdown",
   "metadata": {},
   "source": [
    "#### 1 贪心调参法"
   ]
  },
  {
   "cell_type": "code",
   "execution_count": 100,
   "metadata": {},
   "outputs": [
    {
     "data": {
      "text/plain": [
       "{'regression': 0.1436564294510974, 'regression_l1': 0.142368724430397}"
      ]
     },
     "execution_count": 100,
     "metadata": {},
     "output_type": "execute_result"
    }
   ],
   "source": [
    "objective = ['regression', 'regression_l1']\n",
    "best_obj = dict()\n",
    "for obj in objective:\n",
    "    model = LGBMRegressor(objective=obj)\n",
    "    score = np.mean(cross_val_score(model, X=train_X, y=train_y_log, verbose=0, cv=5, scoring=make_scorer(mean_absolute_error)))\n",
    "    best_obj[obj] = score\n",
    "best_obj"
   ]
  },
  {
   "cell_type": "code",
   "execution_count": 104,
   "metadata": {},
   "outputs": [
    {
     "name": "stdout",
     "output_type": "stream",
     "text": [
      "Help on built-in function min in module builtins:\n",
      "\n",
      "min(...)\n",
      "    min(iterable, *[, default=obj, key=func]) -> value\n",
      "    min(arg1, arg2, *args, *[, key=func]) -> value\n",
      "    \n",
      "    With a single iterable argument, return its smallest item. The\n",
      "    default keyword-only argument specifies an object to return if\n",
      "    the provided iterable is empty.\n",
      "    With two or more arguments, return the smallest argument.\n",
      "\n"
     ]
    }
   ],
   "source": [
    "help(min)"
   ]
  },
  {
   "cell_type": "code",
   "execution_count": 108,
   "metadata": {},
   "outputs": [
    {
     "data": {
      "text/plain": [
       "True"
      ]
     },
     "execution_count": 108,
     "metadata": {},
     "output_type": "execute_result"
    }
   ],
   "source": [
    "# 判断对象是否iterable\n",
    "hasattr(best_obj.items(), '__iter__')"
   ]
  },
  {
   "cell_type": "code",
   "execution_count": 105,
   "metadata": {},
   "outputs": [
    {
     "data": {
      "text/plain": [
       "dict_items([('regression', 0.1436564294510974), ('regression_l1', 0.142368724430397)])"
      ]
     },
     "execution_count": 105,
     "metadata": {},
     "output_type": "execute_result"
    }
   ],
   "source": [
    "best_obj.items()"
   ]
  },
  {
   "cell_type": "code",
   "execution_count": 107,
   "metadata": {},
   "outputs": [
    {
     "data": {
      "text/plain": [
       "['__and__',\n",
       " '__class__',\n",
       " '__contains__',\n",
       " '__delattr__',\n",
       " '__dir__',\n",
       " '__doc__',\n",
       " '__eq__',\n",
       " '__format__',\n",
       " '__ge__',\n",
       " '__getattribute__',\n",
       " '__gt__',\n",
       " '__hash__',\n",
       " '__init__',\n",
       " '__init_subclass__',\n",
       " '__iter__',\n",
       " '__le__',\n",
       " '__len__',\n",
       " '__lt__',\n",
       " '__ne__',\n",
       " '__new__',\n",
       " '__or__',\n",
       " '__rand__',\n",
       " '__reduce__',\n",
       " '__reduce_ex__',\n",
       " '__repr__',\n",
       " '__ror__',\n",
       " '__rsub__',\n",
       " '__rxor__',\n",
       " '__setattr__',\n",
       " '__sizeof__',\n",
       " '__str__',\n",
       " '__sub__',\n",
       " '__subclasshook__',\n",
       " '__xor__',\n",
       " 'isdisjoint']"
      ]
     },
     "execution_count": 107,
     "metadata": {},
     "output_type": "execute_result"
    }
   ],
   "source": [
    "dir(best_obj.items())"
   ]
  },
  {
   "cell_type": "code",
   "execution_count": 111,
   "metadata": {},
   "outputs": [
    {
     "data": {
      "text/plain": [
       "[0.1436564294510974, 0.142368724430397]"
      ]
     },
     "execution_count": 111,
     "metadata": {},
     "output_type": "execute_result"
    }
   ],
   "source": [
    "# 不list话是个map对象，无法显示\n",
    "list( map(lambda x: x[1], \n",
    "          best_obj.items()\n",
    "         ) \n",
    "    )"
   ]
  },
  {
   "cell_type": "code",
   "execution_count": 112,
   "metadata": {},
   "outputs": [
    {
     "data": {
      "text/plain": [
       "(('regression_l1', 0.142368724430397), 'regression_l1')"
      ]
     },
     "execution_count": 112,
     "metadata": {},
     "output_type": "execute_result"
    }
   ],
   "source": [
    "# min操作基于键值，返回的居然是一个元组（键值对）\n",
    "min(best_obj.items(), key=lambda x: x[1]),      min(best_obj.items(), key=lambda x:x[1])[0]"
   ]
  },
  {
   "cell_type": "code",
   "execution_count": 114,
   "metadata": {},
   "outputs": [],
   "source": [
    "## LGB的参数集合：\n",
    "\n",
    "objective = ['regression', 'regression_l1', 'mape', 'huber', 'fair']\n",
    "num_leaves = [3, 5, 10, 15, 20, 40, 55]\n",
    "max_depth = [3, 5, 10, 15, 20, 40, 55]\n",
    "\n",
    "bagging_fraction = []\n",
    "feature_fraction = []\n",
    "drop_rate = []"
   ]
  },
  {
   "cell_type": "code",
   "execution_count": 116,
   "metadata": {},
   "outputs": [
    {
     "name": "stdout",
     "output_type": "stream",
     "text": [
      "总共用时205.74s\n"
     ]
    }
   ],
   "source": [
    "start = time.time()\n",
    "\n",
    "best_obj = dict()\n",
    "for obj in objective:\n",
    "    model = LGBMRegressor(objective=obj)\n",
    "    score = np.mean(cross_val_score(model, X=train_X, y=train_y_log, verbose=0, cv=5, scoring=make_scorer(mean_absolute_error)))\n",
    "    best_obj[obj] = score\n",
    "\n",
    "# 基于前一个参数的训练结果，减少一个参数的调参\n",
    "best_leaves = dict()\n",
    "for leaves in num_leaves:\n",
    "    model = LGBMRegressor( objective=min(best_obj.items(), key=lambda x:x[1])[0], \n",
    "                           num_leaves=leaves\n",
    "                         )\n",
    "    score = np.mean(cross_val_score(model, X=train_X, y=train_y_log, verbose=0, cv=5, scoring=make_scorer(mean_absolute_error)))\n",
    "    best_leaves[leaves] = score\n",
    "\n",
    "# 基于前两个参数的训练结果，再减少一个参数\n",
    "best_depth = dict()\n",
    "for depth in max_depth:\n",
    "    model = LGBMRegressor( objective=min(best_obj.items(), key=lambda x:x[1])[0],\n",
    "                           num_leaves=min(best_leaves.items(), key=lambda x:x[1])[0],\n",
    "                           max_depth=depth\n",
    "                         )\n",
    "    score = np.mean(cross_val_score(model, X=train_X, y=train_y_log, verbose=0, cv=5, scoring=make_scorer(mean_absolute_error)))\n",
    "    best_depth[depth] = score\n",
    "    \n",
    "end = time.time()\n",
    "print( '总共用时{:.2f}s'.format(end-start) )"
   ]
  },
  {
   "cell_type": "code",
   "execution_count": 128,
   "metadata": {},
   "outputs": [
    {
     "data": {
      "text/plain": [
       "{'regression': 0.1436564294510974,\n",
       " 'regression_l1': 0.142368724430397,\n",
       " 'mape': 0.14311170224329464,\n",
       " 'huber': 0.1428921310864728,\n",
       " 'fair': 0.1438883269488307}"
      ]
     },
     "execution_count": 128,
     "metadata": {},
     "output_type": "execute_result"
    }
   ],
   "source": [
    "best_obj"
   ]
  },
  {
   "cell_type": "code",
   "execution_count": 118,
   "metadata": {},
   "outputs": [
    {
     "data": {
      "text/plain": [
       "dict_values([0.1436564294510974, 0.142368724430397, 0.14311170224329464, 0.1428921310864728, 0.1438883269488307])"
      ]
     },
     "execution_count": 118,
     "metadata": {},
     "output_type": "execute_result"
    }
   ],
   "source": [
    "best_obj.values()"
   ]
  },
  {
   "cell_type": "code",
   "execution_count": 121,
   "metadata": {},
   "outputs": [
    {
     "data": {
      "text/plain": [
       "(0.142368724430397, 0.13577653955350616, 0.13566813132724945)"
      ]
     },
     "execution_count": 121,
     "metadata": {},
     "output_type": "execute_result"
    }
   ],
   "source": [
    "min(best_obj.values()),  min(best_leaves.values()),  min(best_depth.values())"
   ]
  },
  {
   "cell_type": "code",
   "execution_count": 129,
   "metadata": {},
   "outputs": [
    {
     "data": {
      "text/plain": [
       "{3: 0.19795713701063877,\n",
       " 5: 0.1795665266198841,\n",
       " 10: 0.16034687276450824,\n",
       " 15: 0.15286509538958012,\n",
       " 20: 0.14816575343743882,\n",
       " 40: 0.13901684374352344,\n",
       " 55: 0.13577653955350616}"
      ]
     },
     "execution_count": 129,
     "metadata": {},
     "output_type": "execute_result"
    }
   ],
   "source": [
    "best_leaves"
   ]
  },
  {
   "cell_type": "code",
   "execution_count": 130,
   "metadata": {},
   "outputs": [
    {
     "data": {
      "text/plain": [
       "{3: 0.17451384688415622,\n",
       " 5: 0.14939265226818377,\n",
       " 10: 0.13586880539437227,\n",
       " 15: 0.1357364478379169,\n",
       " 20: 0.13566813132724945,\n",
       " 40: 0.13577653955350616,\n",
       " 55: 0.13577653955350616}"
      ]
     },
     "execution_count": 130,
     "metadata": {},
     "output_type": "execute_result"
    }
   ],
   "source": [
    "best_depth"
   ]
  },
  {
   "cell_type": "markdown",
   "metadata": {},
   "source": [
    "绘制出每次调参，模型的性能提升情况"
   ]
  },
  {
   "cell_type": "code",
   "execution_count": 119,
   "metadata": {},
   "outputs": [
    {
     "data": {
      "text/plain": [
       "<matplotlib.axes._subplots.AxesSubplot at 0x1f71cb7afd0>"
      ]
     },
     "execution_count": 119,
     "metadata": {},
     "output_type": "execute_result"
    },
    {
     "data": {
      "image/png": "[encoded data removed]",
      "text/plain": [
       "<Figure size 432x288 with 1 Axes>"
      ]
     },
     "metadata": {
      "needs_background": "light"
     },
     "output_type": "display_data"
    }
   ],
   "source": [
    "sns.lineplot(x=['0_initial', '1_turning_obj', '2_turning_leaves', '3_turning_depth'], \n",
    "             y=[0.1437, min(best_obj.values()), min(best_leaves.values()), min(best_depth.values())])"
   ]
  },
  {
   "cell_type": "markdown",
   "metadata": {},
   "source": [
    "#### 2 Grid Search 调参"
   ]
  },
  {
   "cell_type": "code",
   "execution_count": 122,
   "metadata": {},
   "outputs": [],
   "source": [
    "from sklearn.model_selection import GridSearchCV"
   ]
  },
  {
   "cell_type": "code",
   "execution_count": 131,
   "metadata": {},
   "outputs": [],
   "source": [
    "n_estimators = [100, 150, 200]\n",
    "objective = ['regression_l1']\n",
    "num_leaves = [50, 55, 60]\n",
    "max_depth = [20, 25, 30]"
   ]
  },
  {
   "cell_type": "code",
   "execution_count": null,
   "metadata": {},
   "outputs": [],
   "source": [
    "lgb模型默认的 n_jobs是-1（100%），在GridSearchCV定义 n_jobs 不起作用"
   ]
  },
  {
   "cell_type": "code",
   "execution_count": 132,
   "metadata": {},
   "outputs": [
    {
     "name": "stdout",
     "output_type": "stream",
     "text": [
      "总共用时168.10s\n"
     ]
    }
   ],
   "source": [
    "start = time.time()\n",
    "parameters = {'n_estimators':n_estimators, \n",
    "              'objective': objective , \n",
    "              'num_leaves': num_leaves, \n",
    "              'max_depth': max_depth\n",
    "             }\n",
    "model = LGBMRegressor()\n",
    "# 不知道这里的 n_jobs 起不起作用\n",
    "clf = GridSearchCV(model, parameters, scoring=make_scorer(mean_absolute_error), cv=5)\n",
    "clf = clf.fit(train_X, train_y_log)\n",
    "end = time.time()\n",
    "print( '总共用时{:.2f}s'.format(end-start) )"
   ]
  },
  {
   "cell_type": "code",
   "execution_count": 135,
   "metadata": {},
   "outputs": [
    {
     "data": {
      "text/plain": [
       "{'mean_fit_time': array([2.32585497, 2.44045367, 2.54036064, 3.26411057, 3.55942612,\n",
       "        3.56473098, 4.11554646, 4.46728926, 4.65978041, 2.42252922,\n",
       "        2.47114773, 2.52264667, 3.29437075, 3.41880646, 3.62402821,\n",
       "        4.04129086, 4.22709899, 4.33936291, 2.2330205 , 2.35596399,\n",
       "        2.42485805, 3.02366786, 3.21585641, 3.35781503, 3.80311403,\n",
       "        3.97584844, 3.9883152 ]),\n",
       " 'std_fit_time': array([0.06123379, 0.05860776, 0.04307096, 0.10957687, 0.06161789,\n",
       "        0.05160574, 0.07307439, 0.07782605, 0.10135362, 0.08898036,\n",
       "        0.06077168, 0.06025996, 0.05491556, 0.08152484, 0.03094378,\n",
       "        0.06052054, 0.05973649, 0.13089978, 0.04656868, 0.01456701,\n",
       "        0.04396122, 0.07433575, 0.05990913, 0.06901617, 0.04247831,\n",
       "        0.06200023, 0.50106603]),\n",
       " 'mean_score_time': array([0.15933604, 0.16246305, 0.17495766, 0.22000074, 0.22450738,\n",
       "        0.22496891, 0.26075158, 0.27505274, 0.27603364, 0.16292758,\n",
       "        0.1645649 , 0.16405158, 0.21482658, 0.22102718, 0.22127981,\n",
       "        0.2572001 , 0.26626043, 0.26187315, 0.1530859 , 0.15205665,\n",
       "        0.15670023, 0.21557374, 0.22494526, 0.22519298, 0.2538034 ,\n",
       "        0.25079608, 0.23432579]),\n",
       " 'std_score_time': array([0.01168901, 0.00765174, 0.01821402, 0.00204348, 0.00697964,\n",
       "        0.00631411, 0.01196312, 0.00751281, 0.01320571, 0.00465014,\n",
       "        0.01245879, 0.00701399, 0.0065611 , 0.01287831, 0.00554937,\n",
       "        0.00629809, 0.00987265, 0.00565776, 0.01169045, 0.01159489,\n",
       "        0.00989695, 0.01168962, 0.01249661, 0.00796319, 0.01667158,\n",
       "        0.01002682, 0.03276061]),\n",
       " 'param_max_depth': masked_array(data=[20, 20, 20, 20, 20, 20, 20, 20, 20, 25, 25, 25, 25, 25,\n",
       "                    25, 25, 25, 25, 30, 30, 30, 30, 30, 30, 30, 30, 30],\n",
       "              mask=[False, False, False, False, False, False, False, False,\n",
       "                    False, False, False, False, False, False, False, False,\n",
       "                    False, False, False, False, False, False, False, False,\n",
       "                    False, False, False],\n",
       "        fill_value='?',\n",
       "             dtype=object),\n",
       " 'param_n_estimators': masked_array(data=[100, 100, 100, 150, 150, 150, 200, 200, 200, 100, 100,\n",
       "                    100, 150, 150, 150, 200, 200, 200, 100, 100, 100, 150,\n",
       "                    150, 150, 200, 200, 200],\n",
       "              mask=[False, False, False, False, False, False, False, False,\n",
       "                    False, False, False, False, False, False, False, False,\n",
       "                    False, False, False, False, False, False, False, False,\n",
       "                    False, False, False],\n",
       "        fill_value='?',\n",
       "             dtype=object),\n",
       " 'param_num_leaves': masked_array(data=[50, 55, 60, 50, 55, 60, 50, 55, 60, 50, 55, 60, 50, 55,\n",
       "                    60, 50, 55, 60, 50, 55, 60, 50, 55, 60, 50, 55, 60],\n",
       "              mask=[False, False, False, False, False, False, False, False,\n",
       "                    False, False, False, False, False, False, False, False,\n",
       "                    False, False, False, False, False, False, False, False,\n",
       "                    False, False, False],\n",
       "        fill_value='?',\n",
       "             dtype=object),\n",
       " 'param_objective': masked_array(data=['regression_l1', 'regression_l1', 'regression_l1',\n",
       "                    'regression_l1', 'regression_l1', 'regression_l1',\n",
       "                    'regression_l1', 'regression_l1', 'regression_l1',\n",
       "                    'regression_l1', 'regression_l1', 'regression_l1',\n",
       "                    'regression_l1', 'regression_l1', 'regression_l1',\n",
       "                    'regression_l1', 'regression_l1', 'regression_l1',\n",
       "                    'regression_l1', 'regression_l1', 'regression_l1',\n",
       "                    'regression_l1', 'regression_l1', 'regression_l1',\n",
       "                    'regression_l1', 'regression_l1', 'regression_l1'],\n",
       "              mask=[False, False, False, False, False, False, False, False,\n",
       "                    False, False, False, False, False, False, False, False,\n",
       "                    False, False, False, False, False, False, False, False,\n",
       "                    False, False, False],\n",
       "        fill_value='?',\n",
       "             dtype=object),\n",
       " 'params': [{'max_depth': 20,\n",
       "   'n_estimators': 100,\n",
       "   'num_leaves': 50,\n",
       "   'objective': 'regression_l1'},\n",
       "  {'max_depth': 20,\n",
       "   'n_estimators': 100,\n",
       "   'num_leaves': 55,\n",
       "   'objective': 'regression_l1'},\n",
       "  {'max_depth': 20,\n",
       "   'n_estimators': 100,\n",
       "   'num_leaves': 60,\n",
       "   'objective': 'regression_l1'},\n",
       "  {'max_depth': 20,\n",
       "   'n_estimators': 150,\n",
       "   'num_leaves': 50,\n",
       "   'objective': 'regression_l1'},\n",
       "  {'max_depth': 20,\n",
       "   'n_estimators': 150,\n",
       "   'num_leaves': 55,\n",
       "   'objective': 'regression_l1'},\n",
       "  {'max_depth': 20,\n",
       "   'n_estimators': 150,\n",
       "   'num_leaves': 60,\n",
       "   'objective': 'regression_l1'},\n",
       "  {'max_depth': 20,\n",
       "   'n_estimators': 200,\n",
       "   'num_leaves': 50,\n",
       "   'objective': 'regression_l1'},\n",
       "  {'max_depth': 20,\n",
       "   'n_estimators': 200,\n",
       "   'num_leaves': 55,\n",
       "   'objective': 'regression_l1'},\n",
       "  {'max_depth': 20,\n",
       "   'n_estimators': 200,\n",
       "   'num_leaves': 60,\n",
       "   'objective': 'regression_l1'},\n",
       "  {'max_depth': 25,\n",
       "   'n_estimators': 100,\n",
       "   'num_leaves': 50,\n",
       "   'objective': 'regression_l1'},\n",
       "  {'max_depth': 25,\n",
       "   'n_estimators': 100,\n",
       "   'num_leaves': 55,\n",
       "   'objective': 'regression_l1'},\n",
       "  {'max_depth': 25,\n",
       "   'n_estimators': 100,\n",
       "   'num_leaves': 60,\n",
       "   'objective': 'regression_l1'},\n",
       "  {'max_depth': 25,\n",
       "   'n_estimators': 150,\n",
       "   'num_leaves': 50,\n",
       "   'objective': 'regression_l1'},\n",
       "  {'max_depth': 25,\n",
       "   'n_estimators': 150,\n",
       "   'num_leaves': 55,\n",
       "   'objective': 'regression_l1'},\n",
       "  {'max_depth': 25,\n",
       "   'n_estimators': 150,\n",
       "   'num_leaves': 60,\n",
       "   'objective': 'regression_l1'},\n",
       "  {'max_depth': 25,\n",
       "   'n_estimators': 200,\n",
       "   'num_leaves': 50,\n",
       "   'objective': 'regression_l1'},\n",
       "  {'max_depth': 25,\n",
       "   'n_estimators': 200,\n",
       "   'num_leaves': 55,\n",
       "   'objective': 'regression_l1'},\n",
       "  {'max_depth': 25,\n",
       "   'n_estimators': 200,\n",
       "   'num_leaves': 60,\n",
       "   'objective': 'regression_l1'},\n",
       "  {'max_depth': 30,\n",
       "   'n_estimators': 100,\n",
       "   'num_leaves': 50,\n",
       "   'objective': 'regression_l1'},\n",
       "  {'max_depth': 30,\n",
       "   'n_estimators': 100,\n",
       "   'num_leaves': 55,\n",
       "   'objective': 'regression_l1'},\n",
       "  {'max_depth': 30,\n",
       "   'n_estimators': 100,\n",
       "   'num_leaves': 60,\n",
       "   'objective': 'regression_l1'},\n",
       "  {'max_depth': 30,\n",
       "   'n_estimators': 150,\n",
       "   'num_leaves': 50,\n",
       "   'objective': 'regression_l1'},\n",
       "  {'max_depth': 30,\n",
       "   'n_estimators': 150,\n",
       "   'num_leaves': 55,\n",
       "   'objective': 'regression_l1'},\n",
       "  {'max_depth': 30,\n",
       "   'n_estimators': 150,\n",
       "   'num_leaves': 60,\n",
       "   'objective': 'regression_l1'},\n",
       "  {'max_depth': 30,\n",
       "   'n_estimators': 200,\n",
       "   'num_leaves': 50,\n",
       "   'objective': 'regression_l1'},\n",
       "  {'max_depth': 30,\n",
       "   'n_estimators': 200,\n",
       "   'num_leaves': 55,\n",
       "   'objective': 'regression_l1'},\n",
       "  {'max_depth': 30,\n",
       "   'n_estimators': 200,\n",
       "   'num_leaves': 60,\n",
       "   'objective': 'regression_l1'}],\n",
       " 'split0_test_score': array([683.40365498, 674.99807328, 668.40113638, 646.76456071,\n",
       "        634.20691271, 633.53499569, 624.96352381, 615.65884145,\n",
       "        614.96914355, 683.51817661, 674.99807328, 669.46237251,\n",
       "        642.53343247, 634.20691271, 631.06460249, 623.76885079,\n",
       "        615.65884145, 612.03219688, 683.51817661, 674.99807328,\n",
       "        669.46237251, 642.53343247, 634.20691271, 631.06460249,\n",
       "        623.76885079, 615.65884145, 612.03219688]),\n",
       " 'split1_test_score': array([663.50680992, 663.09218984, 655.28687912, 630.41476579,\n",
       "        632.65519761, 623.21189314, 613.00804726, 613.89807836,\n",
       "        607.59232538, 663.50680992, 663.09218984, 655.28687912,\n",
       "        630.41476579, 632.65519761, 623.86890572, 613.00804726,\n",
       "        615.38704133, 606.57330967, 663.50680992, 663.09218984,\n",
       "        655.28687912, 630.41476579, 632.65519761, 623.86890572,\n",
       "        613.00804726, 615.38704133, 606.57330967]),\n",
       " 'split2_test_score': array([674.90440349, 670.00515709, 662.32296916, 644.3323187 ,\n",
       "        634.7804316 , 630.17807584, 620.06696697, 613.6893337 ,\n",
       "        611.35405622, 676.81726447, 670.51135874, 661.73689538,\n",
       "        642.32395133, 634.39971234, 627.61598287, 619.47099593,\n",
       "        614.43023496, 611.15631822, 676.81726447, 670.51135874,\n",
       "        661.73689538, 642.32395133, 634.39971234, 627.61598287,\n",
       "        619.47099593, 614.43023496, 611.15631822]),\n",
       " 'split3_test_score': array([673.96635939, 664.75562353, 663.16935509, 640.68813924,\n",
       "        630.54142613, 632.0346312 , 619.33172592, 610.94181489,\n",
       "        610.12985567, 673.96635939, 663.56352984, 659.89504217,\n",
       "        640.6895186 , 629.25269496, 627.12443942, 617.38347301,\n",
       "        610.7572267 , 606.94905207, 673.96635939, 663.56352984,\n",
       "        659.89504217, 640.6895186 , 629.25269496, 627.12443942,\n",
       "        617.38347301, 610.7572267 , 606.94905207]),\n",
       " 'split4_test_score': array([682.69714956, 676.76267744, 671.89460363, 646.49923335,\n",
       "        644.44853769, 634.26455293, 626.331185  , 622.74990851,\n",
       "        618.58830199, 682.69714956, 676.03810759, 669.01370433,\n",
       "        646.49923335, 642.04979927, 634.51919229, 626.46297432,\n",
       "        622.39360641, 616.63971854, 682.69714956, 676.03810759,\n",
       "        669.01370433, 646.49923335, 642.04979927, 634.51919229,\n",
       "        626.46297432, 622.39360641, 616.63971854]),\n",
       " 'mean_test_score': array([675.69559914, 669.92266967, 664.21490495, 641.73975167,\n",
       "        635.3264017 , 630.6447903 , 620.74022884, 615.38751512,\n",
       "        612.52667048, 676.10108008, 669.64058212, 663.078914  ,\n",
       "        640.49211482, 634.51278121, 628.83856263, 620.01879801,\n",
       "        615.72531748, 610.670054  , 676.10108008, 669.64058212,\n",
       "        663.078914  , 640.49211482, 634.51278121, 628.83856263,\n",
       "        620.01879801, 615.72531748, 610.670054  ]),\n",
       " 'std_test_score': array([7.21967929, 5.40194582, 5.67244366, 6.0660488 , 4.79150795,\n",
       "        3.97123544, 4.71843862, 3.97851367, 3.85163249, 7.24165083,\n",
       "        5.48088876, 5.45204256, 5.38887045, 4.19594969, 3.64291588,\n",
       "        4.73254503, 3.76676098, 3.69747895, 7.24165083, 5.48088876,\n",
       "        5.45204256, 5.38887045, 4.19594969, 3.64291588, 4.73254503,\n",
       "        3.76676098, 3.69747895]),\n",
       " 'rank_test_score': array([ 3,  4,  7, 10, 13, 16, 19, 24, 25,  1,  5,  8, 11, 14, 17, 20, 22,\n",
       "        26,  1,  5,  8, 11, 14, 17, 20, 22, 26])}"
      ]
     },
     "execution_count": 135,
     "metadata": {},
     "output_type": "execute_result"
    }
   ],
   "source": [
    "clf.cv_results_"
   ]
  },
  {
   "cell_type": "code",
   "execution_count": 142,
   "metadata": {},
   "outputs": [
    {
     "data": {
      "text/plain": [
       "27"
      ]
     },
     "execution_count": 142,
     "metadata": {},
     "output_type": "execute_result"
    }
   ],
   "source": [
    "len(clf.cv_results_['params'])"
   ]
  },
  {
   "cell_type": "markdown",
   "metadata": {},
   "source": [
    "根据数值在list里找index，只返回第一个找到的"
   ]
  },
  {
   "cell_type": "code",
   "execution_count": 140,
   "metadata": {},
   "outputs": [
    {
     "data": {
      "text/plain": [
       "array([675.69559914, 669.92266967, 664.21490495, 641.73975167,\n",
       "       635.3264017 , 630.6447903 , 620.74022884, 615.38751512,\n",
       "       612.52667048, 676.10108008, 669.64058212, 663.078914  ,\n",
       "       640.49211482, 634.51278121, 628.83856263, 620.01879801,\n",
       "       615.72531748, 610.670054  , 676.10108008, 669.64058212,\n",
       "       663.078914  , 640.49211482, 634.51278121, 628.83856263,\n",
       "       620.01879801, 615.72531748, 610.670054  ])"
      ]
     },
     "execution_count": 140,
     "metadata": {},
     "output_type": "execute_result"
    }
   ],
   "source": [
    "# 有两个模型参数组合的 mae 最小，均为610.670054\n",
    "clf.cv_results_['mean_test_score']"
   ]
  },
  {
   "cell_type": "code",
   "execution_count": 146,
   "metadata": {},
   "outputs": [
    {
     "data": {
      "text/plain": [
       "(610.6700539983888, 17)"
      ]
     },
     "execution_count": 146,
     "metadata": {},
     "output_type": "execute_result"
    }
   ],
   "source": [
    "min(clf.cv_results_['mean_test_score']), clf.cv_results_['mean_test_score'].tolist().index(min(clf.cv_results_['mean_test_score']))"
   ]
  },
  {
   "cell_type": "code",
   "execution_count": 147,
   "metadata": {},
   "outputs": [
    {
     "data": {
      "text/plain": [
       "{'max_depth': 25,\n",
       " 'n_estimators': 200,\n",
       " 'num_leaves': 60,\n",
       " 'objective': 'regression_l1'}"
      ]
     },
     "execution_count": 147,
     "metadata": {},
     "output_type": "execute_result"
    }
   ],
   "source": [
    "clf.cv_results_['params'][17]"
   ]
  },
  {
   "cell_type": "code",
   "execution_count": 149,
   "metadata": {},
   "outputs": [
    {
     "data": {
      "text/plain": [
       "{'max_depth': 30,\n",
       " 'n_estimators': 200,\n",
       " 'num_leaves': 60,\n",
       " 'objective': 'regression_l1'}"
      ]
     },
     "execution_count": 149,
     "metadata": {},
     "output_type": "execute_result"
    }
   ],
   "source": [
    "clf.cv_results_['params'][26]"
   ]
  },
  {
   "cell_type": "markdown",
   "metadata": {},
   "source": [
    "这个 best_score_是错误的，找了个最大的。。。，那best_model估计也是错误的。。。"
   ]
  },
  {
   "cell_type": "code",
   "execution_count": 136,
   "metadata": {},
   "outputs": [
    {
     "data": {
      "text/plain": [
       "676.1010800838436"
      ]
     },
     "execution_count": 136,
     "metadata": {},
     "output_type": "execute_result"
    }
   ],
   "source": [
    "clf.best_score_"
   ]
  },
  {
   "cell_type": "code",
   "execution_count": 138,
   "metadata": {},
   "outputs": [
    {
     "data": {
      "text/plain": [
       "9"
      ]
     },
     "execution_count": 138,
     "metadata": {},
     "output_type": "execute_result"
    }
   ],
   "source": [
    "clf.best_index_"
   ]
  },
  {
   "cell_type": "code",
   "execution_count": 139,
   "metadata": {},
   "outputs": [
    {
     "data": {
      "text/plain": [
       "make_scorer(mean_absolute_error)"
      ]
     },
     "execution_count": 139,
     "metadata": {},
     "output_type": "execute_result"
    }
   ],
   "source": [
    "clf.scorer_"
   ]
  },
  {
   "cell_type": "code",
   "execution_count": 133,
   "metadata": {},
   "outputs": [
    {
     "data": {
      "text/plain": [
       "{'max_depth': 25,\n",
       " 'n_estimators': 100,\n",
       " 'num_leaves': 50,\n",
       " 'objective': 'regression_l1'}"
      ]
     },
     "execution_count": 133,
     "metadata": {},
     "output_type": "execute_result"
    }
   ],
   "source": [
    "clf.best_params_"
   ]
  },
  {
   "cell_type": "code",
   "execution_count": 134,
   "metadata": {},
   "outputs": [
    {
     "data": {
      "text/plain": [
       "LGBMRegressor(boosting_type='gbdt', class_weight=None, colsample_bytree=1.0,\n",
       "              importance_type='split', learning_rate=0.1, max_depth=25,\n",
       "              min_child_samples=20, min_child_weight=0.001, min_split_gain=0.0,\n",
       "              n_estimators=100, n_jobs=-1, num_leaves=50,\n",
       "              objective='regression_l1', random_state=None, reg_alpha=0.0,\n",
       "              reg_lambda=0.0, silent=True, subsample=1.0,\n",
       "              subsample_for_bin=200000, subsample_freq=0)"
      ]
     },
     "execution_count": 134,
     "metadata": {},
     "output_type": "execute_result"
    }
   ],
   "source": [
    "clf.best_estimator_"
   ]
  },
  {
   "cell_type": "markdown",
   "metadata": {},
   "source": [
    "**取对数后，mae一下降低超多，跟原始mae取对数的结果不一致，为何？？**  \n",
    "用预测目标的对数进行训练，这回只是基本频率2.39HZ，没有睿频，上回是睿频3.8HZ，跑了一会又开始睿频了 \n",
    "如果lgb默认参数n_jobs=-1的话，有时候只跑一个cpu，基本频率，为何？？"
   ]
  },
  {
   "cell_type": "code",
   "execution_count": 150,
   "metadata": {},
   "outputs": [],
   "source": [
    "n_estimators = [175, 200, 225, 250]\n",
    "objective = ['regression_l1']\n",
    "num_leaves = [60, 65, 70]\n",
    "max_depth = [20, 25, 30]"
   ]
  },
  {
   "cell_type": "code",
   "execution_count": 153,
   "metadata": {},
   "outputs": [
    {
     "name": "stdout",
     "output_type": "stream",
     "text": [
      "总共用时479.91s\n"
     ]
    }
   ],
   "source": [
    "start = time.time()\n",
    "parameters = {'n_estimators':n_estimators, \n",
    "              'objective': objective , \n",
    "              'num_leaves': num_leaves, \n",
    "              'max_depth': max_depth\n",
    "             }\n",
    "model = LGBMRegressor(n_jobs=6)\n",
    "reg = GridSearchCV(model, parameters, scoring=make_scorer(mean_absolute_error), cv=5)\n",
    "reg.fit(train_X, train_y_log)\n",
    "end = time.time()\n",
    "print( '总共用时{:.2f}s'.format(end-start) )"
   ]
  },
  {
   "cell_type": "code",
   "execution_count": 155,
   "metadata": {},
   "outputs": [
    {
     "data": {
      "text/plain": [
       "array([0.12861281, 0.12799328, 0.12784098, 0.12757689, 0.127013  ,\n",
       "       0.12690815, 0.12672781, 0.12631516, 0.1261875 , 0.12606122,\n",
       "       0.12570157, 0.12554502, 0.12855501, 0.12831058, 0.12772191,\n",
       "       0.1275108 , 0.12725201, 0.12677471, 0.12667792, 0.12656929,\n",
       "       0.12601923, 0.12606142, 0.1259461 , 0.12540809, 0.12855501,\n",
       "       0.12829592, 0.12772191, 0.1275108 , 0.12719124, 0.12677471,\n",
       "       0.12667792, 0.12650499, 0.12601923, 0.12606142, 0.12587803,\n",
       "       0.12540809])"
      ]
     },
     "execution_count": 155,
     "metadata": {},
     "output_type": "execute_result"
    }
   ],
   "source": [
    "reg.cv_results_[ 'mean_test_score']"
   ]
  },
  {
   "cell_type": "code",
   "execution_count": 165,
   "metadata": {},
   "outputs": [
    {
     "data": {
      "text/plain": [
       "(0.1254080873193092, 0.12861280806066597)"
      ]
     },
     "execution_count": 165,
     "metadata": {},
     "output_type": "execute_result"
    }
   ],
   "source": [
    "min(reg.cv_results_[ 'mean_test_score']),  max(reg.cv_results_[ 'mean_test_score'])"
   ]
  },
  {
   "cell_type": "code",
   "execution_count": 168,
   "metadata": {},
   "outputs": [
    {
     "data": {
      "text/plain": [
       "23"
      ]
     },
     "execution_count": 168,
     "metadata": {},
     "output_type": "execute_result"
    }
   ],
   "source": [
    "reg.cv_results_[ 'mean_test_score'].tolist().index(min(reg.cv_results_[ 'mean_test_score']))"
   ]
  },
  {
   "cell_type": "code",
   "execution_count": 171,
   "metadata": {},
   "outputs": [
    {
     "data": {
      "text/plain": [
       "{'max_depth': 25,\n",
       " 'n_estimators': 250,\n",
       " 'num_leaves': 70,\n",
       " 'objective': 'regression_l1'}"
      ]
     },
     "execution_count": 171,
     "metadata": {},
     "output_type": "execute_result"
    }
   ],
   "source": [
    "reg.cv_results_['params'][23]"
   ]
  },
  {
   "cell_type": "code",
   "execution_count": 163,
   "metadata": {},
   "outputs": [
    {
     "data": {
      "text/plain": [
       "0"
      ]
     },
     "execution_count": 163,
     "metadata": {},
     "output_type": "execute_result"
    }
   ],
   "source": [
    "reg.best_index_"
   ]
  },
  {
   "cell_type": "code",
   "execution_count": 157,
   "metadata": {},
   "outputs": [
    {
     "data": {
      "text/plain": [
       "0.12861280806066597"
      ]
     },
     "execution_count": 157,
     "metadata": {},
     "output_type": "execute_result"
    }
   ],
   "source": [
    "reg.best_score_"
   ]
  },
  {
   "cell_type": "code",
   "execution_count": 158,
   "metadata": {},
   "outputs": [
    {
     "data": {
      "text/plain": [
       "{'max_depth': 20,\n",
       " 'n_estimators': 175,\n",
       " 'num_leaves': 60,\n",
       " 'objective': 'regression_l1'}"
      ]
     },
     "execution_count": 158,
     "metadata": {},
     "output_type": "execute_result"
    }
   ],
   "source": [
    "reg.best_params_"
   ]
  },
  {
   "cell_type": "code",
   "execution_count": 159,
   "metadata": {},
   "outputs": [
    {
     "data": {
      "text/plain": [
       "LGBMRegressor(boosting_type='gbdt', class_weight=None, colsample_bytree=1.0,\n",
       "              importance_type='split', learning_rate=0.1, max_depth=20,\n",
       "              min_child_samples=20, min_child_weight=0.001, min_split_gain=0.0,\n",
       "              n_estimators=175, n_jobs=6, num_leaves=60,\n",
       "              objective='regression_l1', random_state=None, reg_alpha=0.0,\n",
       "              reg_lambda=0.0, silent=True, subsample=1.0,\n",
       "              subsample_for_bin=200000, subsample_freq=0)"
      ]
     },
     "execution_count": 159,
     "metadata": {},
     "output_type": "execute_result"
    }
   ],
   "source": [
    "reg.best_estimator_"
   ]
  },
  {
   "cell_type": "code",
   "execution_count": 161,
   "metadata": {},
   "outputs": [
    {
     "data": {
      "text/plain": [
       "make_scorer(mean_absolute_error)"
      ]
     },
     "execution_count": 161,
     "metadata": {},
     "output_type": "execute_result"
    }
   ],
   "source": [
    "reg.scorer_"
   ]
  },
  {
   "cell_type": "markdown",
   "metadata": {},
   "source": [
    "根据mae最小化原则找到的最佳参数，线下最佳 594 分"
   ]
  },
  {
   "cell_type": "code",
   "execution_count": 172,
   "metadata": {},
   "outputs": [],
   "source": [
    "best_model = LGBMRegressor(max_depth=25, \n",
    "                           n_estimators=250, \n",
    "                           num_leaves=70, \n",
    "                           objective='regression_l1', \n",
    "                           n_jobs=4)\n",
    "reg_scores_log = cross_val_score(best_model, X=train_X, y=train_y_log, verbose=0, cv=5, scoring=make_scorer(mean_absolute_error))\n",
    "reg_scores = cross_val_score(best_model, X=train_X, y=train_y, verbose=0, cv=5, scoring=make_scorer(mean_absolute_error))"
   ]
  },
  {
   "cell_type": "code",
   "execution_count": 173,
   "metadata": {},
   "outputs": [
    {
     "data": {
      "text/plain": [
       "0.12540810340953376"
      ]
     },
     "execution_count": 173,
     "metadata": {},
     "output_type": "execute_result"
    }
   ],
   "source": [
    "reg_scores_log.mean()"
   ]
  },
  {
   "cell_type": "code",
   "execution_count": 174,
   "metadata": {},
   "outputs": [
    {
     "data": {
      "text/plain": [
       "594.5231406742474"
      ]
     },
     "execution_count": 174,
     "metadata": {},
     "output_type": "execute_result"
    }
   ],
   "source": [
    "reg_scores.mean()"
   ]
  },
  {
   "cell_type": "markdown",
   "metadata": {},
   "source": [
    "#### 3 贝叶斯调参\n",
    "pip install bayesian_optimization  \n",
    "https://www.cnblogs.com/chenxiangzhen/p/10636896.html"
   ]
  },
  {
   "cell_type": "code",
   "execution_count": 176,
   "metadata": {},
   "outputs": [],
   "source": [
    "from bayes_opt import BayesianOptimization"
   ]
  },
  {
   "cell_type": "markdown",
   "metadata": {},
   "source": [
    "由于BayesianOptimization的属性限制，所以在这里返回 1-val，最后再减去  \n",
    "lgb 对除 subsample 外的**参数的要求确实是 int**   "
   ]
  },
  {
   "cell_type": "markdown",
   "metadata": {},
   "source": [
    "**lgb的参数对应的参数值是 bayes_opt 选择的参数组合提供的，为了明晰这一点，将传入的参数值加上后缀 _value**  \n",
    "n_jobs=3，  3 / 8 = 0.375 cpu38%，2.4HZ，过一会"
   ]
  },
  {
   "cell_type": "code",
   "execution_count": 205,
   "metadata": {},
   "outputs": [],
   "source": [
    "def rf_cv(n_estimators_value, num_leaves_value, max_depth_value, subsample_value, min_child_samples_value):\n",
    "    \"\"\"\n",
    "    lgb的参数是baye_opt传过来的！！，所以定义函数的时候参数一定要包括lgb参数对应的参数值，\n",
    "    否则报错：TypeError: rf_cv() got an unexpected keyword argument 'n_estimators'\n",
    "    \"\"\"\n",
    "    val_scores = cross_val_score(\n",
    "        LGBMRegressor(objective='regression_l1',                         # 字符型参数，无法通过贝叶斯调参法进行优化\n",
    "                      n_estimators=int(n_estimators_value),                      \n",
    "                      num_leaves=int(num_leaves_value),\n",
    "                      max_depth=int(max_depth_value),\n",
    "                      subsample = subsample_value,                       # Subsample ratio of the training instance.\n",
    "                      min_child_samples = int(min_child_samples_value),  # Minimum number of data needed in a child (leaf).\n",
    "                      n_jobs=3\n",
    "                      ),\n",
    "        X=train_X, \n",
    "        y=train_y_log, \n",
    "        verbose=0, \n",
    "        cv=5, \n",
    "        scoring=make_scorer(mean_absolute_error)\n",
    "    )\n",
    "    return val_scores.mean()"
   ]
  },
  {
   "cell_type": "markdown",
   "metadata": {},
   "source": [
    "给出各个参数的优化目标范围，应该不是遍历，否则时间太长  \n",
    "BayesianOpt 对参数 pbounds 会自动取成浮点数，但是lgb那里会把需要的转成int，以符合模型要求！！  \n",
    "BayesianOpt **对参数 pbounds** 的数据类型有限制，必须是数值型的、可以被转化为float的，int或float都可以，但不能是字符型的：ValueError: could not convert string to float: 'regression'  \n",
    "对参数的个数有什么限制，超过多少个后训练速度会明显变慢？？"
   ]
  },
  {
   "cell_type": "code",
   "execution_count": 206,
   "metadata": {},
   "outputs": [],
   "source": [
    "rf_bayes_opt = BayesianOptimization(\n",
    "    f = rf_cv,    \n",
    "    pbounds = {'n_estimators_value':(100, 300), \n",
    "               'num_leaves_value': (2, 100), \n",
    "               'max_depth_value': (2, 100), \n",
    "               'subsample_value': (0.1, 1), \n",
    "               'min_child_samples_value': (2, 100)\n",
    "              }\n",
    ")"
   ]
  },
  {
   "cell_type": "markdown",
   "metadata": {},
   "source": [
    "可以多迭代几次（默认是30次），迭代次数越多越有可能通过贝叶斯优化找到一个更好的结果, 再加上10次随机优化 \n",
    "https://github.com/fmfn/BayesianOptimization"
   ]
  },
  {
   "cell_type": "code",
   "execution_count": 207,
   "metadata": {},
   "outputs": [
    {
     "name": "stdout",
     "output_type": "stream",
     "text": [
      "|   iter    |  target   | max_de... | min_ch... | n_esti... | num_le... | subsam... |\n",
      "-------------------------------------------------------------------------------------\n",
      "| \u001b[0m 1       \u001b[0m | \u001b[0m 0.1318  \u001b[0m | \u001b[0m 23.75   \u001b[0m | \u001b[0m 13.56   \u001b[0m | \u001b[0m 129.8   \u001b[0m | \u001b[0m 59.96   \u001b[0m | \u001b[0m 0.5077  \u001b[0m |\n",
      "| \u001b[95m 2       \u001b[0m | \u001b[95m 0.1575  \u001b[0m | \u001b[95m 55.95   \u001b[0m | \u001b[95m 46.01   \u001b[0m | \u001b[95m 164.4   \u001b[0m | \u001b[95m 7.058   \u001b[0m | \u001b[95m 0.4956  \u001b[0m |\n",
      "| \u001b[0m 3       \u001b[0m | \u001b[0m 0.1275  \u001b[0m | \u001b[0m 10.64   \u001b[0m | \u001b[0m 96.28   \u001b[0m | \u001b[0m 189.5   \u001b[0m | \u001b[0m 68.35   \u001b[0m | \u001b[0m 0.4997  \u001b[0m |\n",
      "| \u001b[0m 4       \u001b[0m | \u001b[0m 0.1277  \u001b[0m | \u001b[0m 15.04   \u001b[0m | \u001b[0m 31.39   \u001b[0m | \u001b[0m 154.1   \u001b[0m | \u001b[0m 80.24   \u001b[0m | \u001b[0m 0.1483  \u001b[0m |\n",
      "| \u001b[0m 5       \u001b[0m | \u001b[0m 0.1284  \u001b[0m | \u001b[0m 92.93   \u001b[0m | \u001b[0m 20.89   \u001b[0m | \u001b[0m 155.2   \u001b[0m | \u001b[0m 74.96   \u001b[0m | \u001b[0m 0.7859  \u001b[0m |\n",
      "| \u001b[0m 6       \u001b[0m | \u001b[0m 0.1356  \u001b[0m | \u001b[0m 57.72   \u001b[0m | \u001b[0m 11.38   \u001b[0m | \u001b[0m 144.8   \u001b[0m | \u001b[0m 35.03   \u001b[0m | \u001b[0m 0.4403  \u001b[0m |\n",
      "| \u001b[0m 7       \u001b[0m | \u001b[0m 0.1246  \u001b[0m | \u001b[0m 96.14   \u001b[0m | \u001b[0m 9.262   \u001b[0m | \u001b[0m 244.3   \u001b[0m | \u001b[0m 95.39   \u001b[0m | \u001b[0m 0.5431  \u001b[0m |\n",
      "| \u001b[0m 8       \u001b[0m | \u001b[0m 0.1284  \u001b[0m | \u001b[0m 79.27   \u001b[0m | \u001b[0m 26.21   \u001b[0m | \u001b[0m 204.5   \u001b[0m | \u001b[0m 53.3    \u001b[0m | \u001b[0m 0.4304  \u001b[0m |\n",
      "| \u001b[0m 9       \u001b[0m | \u001b[0m 0.126   \u001b[0m | \u001b[0m 67.83   \u001b[0m | \u001b[0m 18.06   \u001b[0m | \u001b[0m 259.7   \u001b[0m | \u001b[0m 61.95   \u001b[0m | \u001b[0m 0.8808  \u001b[0m |\n",
      "| \u001b[0m 10      \u001b[0m | \u001b[0m 0.1268  \u001b[0m | \u001b[0m 29.55   \u001b[0m | \u001b[0m 56.89   \u001b[0m | \u001b[0m 156.1   \u001b[0m | \u001b[0m 93.12   \u001b[0m | \u001b[0m 0.6128  \u001b[0m |\n",
      "| \u001b[0m 11      \u001b[0m | \u001b[0m 0.1499  \u001b[0m | \u001b[0m 99.93   \u001b[0m | \u001b[0m 96.19   \u001b[0m | \u001b[0m 103.7   \u001b[0m | \u001b[0m 17.38   \u001b[0m | \u001b[0m 0.2031  \u001b[0m |\n",
      "| \u001b[95m 12      \u001b[0m | \u001b[95m 0.1751  \u001b[0m | \u001b[95m 99.75   \u001b[0m | \u001b[95m 83.19   \u001b[0m | \u001b[95m 291.8   \u001b[0m | \u001b[95m 3.333   \u001b[0m | \u001b[95m 0.4546  \u001b[0m |\n",
      "| \u001b[95m 13      \u001b[0m | \u001b[95m 0.1968  \u001b[0m | \u001b[95m 21.02   \u001b[0m | \u001b[95m 98.88   \u001b[0m | \u001b[95m 282.6   \u001b[0m | \u001b[95m 2.206   \u001b[0m | \u001b[95m 0.6781  \u001b[0m |\n",
      "| \u001b[0m 14      \u001b[0m | \u001b[0m 0.1755  \u001b[0m | \u001b[0m 4.94    \u001b[0m | \u001b[0m 14.66   \u001b[0m | \u001b[0m 283.4   \u001b[0m | \u001b[0m 3.907   \u001b[0m | \u001b[0m 0.4103  \u001b[0m |\n",
      "| \u001b[0m 15      \u001b[0m | \u001b[0m 0.1533  \u001b[0m | \u001b[0m 56.32   \u001b[0m | \u001b[0m 49.44   \u001b[0m | \u001b[0m 162.0   \u001b[0m | \u001b[0m 9.034   \u001b[0m | \u001b[0m 0.2122  \u001b[0m |\n",
      "| \u001b[0m 16      \u001b[0m | \u001b[0m 0.1518  \u001b[0m | \u001b[0m 3.623   \u001b[0m | \u001b[0m 86.57   \u001b[0m | \u001b[0m 299.7   \u001b[0m | \u001b[0m 7.919   \u001b[0m | \u001b[0m 0.7007  \u001b[0m |\n",
      "| \u001b[0m 17      \u001b[0m | \u001b[0m 0.1566  \u001b[0m | \u001b[0m 96.86   \u001b[0m | \u001b[0m 2.116   \u001b[0m | \u001b[0m 287.1   \u001b[0m | \u001b[0m 5.583   \u001b[0m | \u001b[0m 0.2828  \u001b[0m |\n",
      "| \u001b[95m 18      \u001b[0m | \u001b[95m 0.2016  \u001b[0m | \u001b[95m 89.1    \u001b[0m | \u001b[95m 96.89   \u001b[0m | \u001b[95m 223.1   \u001b[0m | \u001b[95m 2.519   \u001b[0m | \u001b[95m 0.1465  \u001b[0m |\n",
      "| \u001b[0m 19      \u001b[0m | \u001b[0m 0.1816  \u001b[0m | \u001b[0m 2.739   \u001b[0m | \u001b[0m 99.76   \u001b[0m | \u001b[0m 173.0   \u001b[0m | \u001b[0m 4.633   \u001b[0m | \u001b[0m 0.6347  \u001b[0m |\n",
      "| \u001b[0m 20      \u001b[0m | \u001b[0m 0.1813  \u001b[0m | \u001b[0m 15.31   \u001b[0m | \u001b[0m 4.763   \u001b[0m | \u001b[0m 209.5   \u001b[0m | \u001b[0m 3.075   \u001b[0m | \u001b[0m 0.1982  \u001b[0m |\n",
      "| \u001b[0m 21      \u001b[0m | \u001b[0m 0.1999  \u001b[0m | \u001b[0m 23.81   \u001b[0m | \u001b[0m 97.94   \u001b[0m | \u001b[0m 241.3   \u001b[0m | \u001b[0m 2.291   \u001b[0m | \u001b[0m 0.9754  \u001b[0m |\n",
      "| \u001b[0m 22      \u001b[0m | \u001b[0m 0.175   \u001b[0m | \u001b[0m 57.82   \u001b[0m | \u001b[0m 99.85   \u001b[0m | \u001b[0m 295.6   \u001b[0m | \u001b[0m 3.672   \u001b[0m | \u001b[0m 0.2616  \u001b[0m |\n",
      "| \u001b[0m 23      \u001b[0m | \u001b[0m 0.141   \u001b[0m | \u001b[0m 6.795   \u001b[0m | \u001b[0m 87.02   \u001b[0m | \u001b[0m 102.8   \u001b[0m | \u001b[0m 95.62   \u001b[0m | \u001b[0m 0.6965  \u001b[0m |\n",
      "| \u001b[95m 24      \u001b[0m | \u001b[95m 0.2264  \u001b[0m | \u001b[95m 15.43   \u001b[0m | \u001b[95m 3.59    \u001b[0m | \u001b[95m 104.6   \u001b[0m | \u001b[95m 2.934   \u001b[0m | \u001b[95m 0.2194  \u001b[0m |\n",
      "| \u001b[0m 25      \u001b[0m | \u001b[0m 0.1514  \u001b[0m | \u001b[0m 97.19   \u001b[0m | \u001b[0m 2.125   \u001b[0m | \u001b[0m 100.3   \u001b[0m | \u001b[0m 16.41   \u001b[0m | \u001b[0m 0.5344  \u001b[0m |\n",
      "| \u001b[0m 26      \u001b[0m | \u001b[0m 0.1873  \u001b[0m | \u001b[0m 7.098   \u001b[0m | \u001b[0m 74.35   \u001b[0m | \u001b[0m 103.5   \u001b[0m | \u001b[0m 4.556   \u001b[0m | \u001b[0m 0.8823  \u001b[0m |\n",
      "| \u001b[0m 27      \u001b[0m | \u001b[0m 0.2018  \u001b[0m | \u001b[0m 85.59   \u001b[0m | \u001b[0m 99.23   \u001b[0m | \u001b[0m 222.6   \u001b[0m | \u001b[0m 2.922   \u001b[0m | \u001b[0m 0.8573  \u001b[0m |\n",
      "| \u001b[0m 28      \u001b[0m | \u001b[0m 0.1242  \u001b[0m | \u001b[0m 99.13   \u001b[0m | \u001b[0m 91.01   \u001b[0m | \u001b[0m 223.1   \u001b[0m | \u001b[0m 98.86   \u001b[0m | \u001b[0m 0.8456  \u001b[0m |\n",
      "| \u001b[0m 29      \u001b[0m | \u001b[0m 0.1923  \u001b[0m | \u001b[0m 2.117   \u001b[0m | \u001b[0m 34.81   \u001b[0m | \u001b[0m 106.1   \u001b[0m | \u001b[0m 5.488   \u001b[0m | \u001b[0m 0.1125  \u001b[0m |\n",
      "| \u001b[0m 30      \u001b[0m | \u001b[0m 0.1541  \u001b[0m | \u001b[0m 3.576   \u001b[0m | \u001b[0m 2.493   \u001b[0m | \u001b[0m 256.3   \u001b[0m | \u001b[0m 97.21   \u001b[0m | \u001b[0m 0.71    \u001b[0m |\n",
      "| \u001b[0m 31      \u001b[0m | \u001b[0m 0.1622  \u001b[0m | \u001b[0m 4.669   \u001b[0m | \u001b[0m 2.622   \u001b[0m | \u001b[0m 125.2   \u001b[0m | \u001b[0m 8.878   \u001b[0m | \u001b[0m 0.7889  \u001b[0m |\n",
      "| \u001b[0m 32      \u001b[0m | \u001b[0m 0.1311  \u001b[0m | \u001b[0m 14.23   \u001b[0m | \u001b[0m 2.176   \u001b[0m | \u001b[0m 100.2   \u001b[0m | \u001b[0m 97.12   \u001b[0m | \u001b[0m 0.435   \u001b[0m |\n",
      "| \u001b[0m 33      \u001b[0m | \u001b[0m 0.1302  \u001b[0m | \u001b[0m 97.77   \u001b[0m | \u001b[0m 97.36   \u001b[0m | \u001b[0m 109.8   \u001b[0m | \u001b[0m 90.77   \u001b[0m | \u001b[0m 0.1984  \u001b[0m |\n",
      "| \u001b[0m 34      \u001b[0m | \u001b[0m 0.1721  \u001b[0m | \u001b[0m 45.85   \u001b[0m | \u001b[0m 31.7    \u001b[0m | \u001b[0m 103.0   \u001b[0m | \u001b[0m 6.002   \u001b[0m | \u001b[0m 0.3995  \u001b[0m |\n",
      "| \u001b[0m 35      \u001b[0m | \u001b[0m 0.2011  \u001b[0m | \u001b[0m 61.18   \u001b[0m | \u001b[0m 5.766   \u001b[0m | \u001b[0m 229.1   \u001b[0m | \u001b[0m 2.943   \u001b[0m | \u001b[0m 0.9132  \u001b[0m |\n",
      "| \u001b[0m 36      \u001b[0m | \u001b[0m 0.1235  \u001b[0m | \u001b[0m 10.54   \u001b[0m | \u001b[0m 98.39   \u001b[0m | \u001b[0m 294.8   \u001b[0m | \u001b[0m 99.08   \u001b[0m | \u001b[0m 0.7145  \u001b[0m |\n",
      "| \u001b[0m 37      \u001b[0m | \u001b[0m 0.1992  \u001b[0m | \u001b[0m 50.84   \u001b[0m | \u001b[0m 44.68   \u001b[0m | \u001b[0m 251.0   \u001b[0m | \u001b[0m 2.638   \u001b[0m | \u001b[0m 0.8011  \u001b[0m |\n",
      "| \u001b[95m 38      \u001b[0m | \u001b[95m 0.2281  \u001b[0m | \u001b[95m 2.222   \u001b[0m | \u001b[95m 3.709   \u001b[0m | \u001b[95m 100.4   \u001b[0m | \u001b[95m 2.822   \u001b[0m | \u001b[95m 0.7326  \u001b[0m |\n",
      "| \u001b[0m 39      \u001b[0m | \u001b[0m 0.1724  \u001b[0m | \u001b[0m 34.42   \u001b[0m | \u001b[0m 3.373   \u001b[0m | \u001b[0m 101.5   \u001b[0m | \u001b[0m 6.345   \u001b[0m | \u001b[0m 0.5624  \u001b[0m |\n",
      "| \u001b[0m 40      \u001b[0m | \u001b[0m 0.1878  \u001b[0m | \u001b[0m 49.15   \u001b[0m | \u001b[0m 31.19   \u001b[0m | \u001b[0m 101.3   \u001b[0m | \u001b[0m 4.279   \u001b[0m | \u001b[0m 0.5513  \u001b[0m |\n",
      "| \u001b[0m 41      \u001b[0m | \u001b[0m 0.1231  \u001b[0m | \u001b[0m 95.38   \u001b[0m | \u001b[0m 79.21   \u001b[0m | \u001b[0m 296.8   \u001b[0m | \u001b[0m 94.8    \u001b[0m | \u001b[0m 0.1344  \u001b[0m |\n",
      "| \u001b[0m 42      \u001b[0m | \u001b[0m 0.1709  \u001b[0m | \u001b[0m 2.0     \u001b[0m | \u001b[0m 2.0     \u001b[0m | \u001b[0m 300.0   \u001b[0m | \u001b[0m 100.0   \u001b[0m | \u001b[0m 0.1     \u001b[0m |\n",
      "| \u001b[0m 43      \u001b[0m | \u001b[0m 0.1788  \u001b[0m | \u001b[0m 99.52   \u001b[0m | \u001b[0m 19.09   \u001b[0m | \u001b[0m 147.5   \u001b[0m | \u001b[0m 4.783   \u001b[0m | \u001b[0m 0.5094  \u001b[0m |\n",
      "| \u001b[0m 44      \u001b[0m | \u001b[0m 0.2253  \u001b[0m | \u001b[0m 13.79   \u001b[0m | \u001b[0m 5.427   \u001b[0m | \u001b[0m 107.6   \u001b[0m | \u001b[0m 2.426   \u001b[0m | \u001b[0m 0.4039  \u001b[0m |\n",
      "| \u001b[0m 45      \u001b[0m | \u001b[0m 0.1265  \u001b[0m | \u001b[0m 54.96   \u001b[0m | \u001b[0m 5.187   \u001b[0m | \u001b[0m 171.5   \u001b[0m | \u001b[0m 96.82   \u001b[0m | \u001b[0m 0.7519  \u001b[0m |\n",
      "| \u001b[0m 46      \u001b[0m | \u001b[0m 0.1242  \u001b[0m | \u001b[0m 81.75   \u001b[0m | \u001b[0m 2.547   \u001b[0m | \u001b[0m 299.7   \u001b[0m | \u001b[0m 93.43   \u001b[0m | \u001b[0m 0.3528  \u001b[0m |\n",
      "| \u001b[0m 47      \u001b[0m | \u001b[0m 0.1297  \u001b[0m | \u001b[0m 99.49   \u001b[0m | \u001b[0m 34.69   \u001b[0m | \u001b[0m 109.3   \u001b[0m | \u001b[0m 98.04   \u001b[0m | \u001b[0m 0.6919  \u001b[0m |\n",
      "| \u001b[0m 48      \u001b[0m | \u001b[0m 0.2249  \u001b[0m | \u001b[0m 96.56   \u001b[0m | \u001b[0m 52.1    \u001b[0m | \u001b[0m 108.2   \u001b[0m | \u001b[0m 2.275   \u001b[0m | \u001b[0m 0.5911  \u001b[0m |\n",
      "| \u001b[0m 49      \u001b[0m | \u001b[0m 0.2132  \u001b[0m | \u001b[0m 78.57   \u001b[0m | \u001b[0m 97.46   \u001b[0m | \u001b[0m 148.6   \u001b[0m | \u001b[0m 2.11    \u001b[0m | \u001b[0m 0.4422  \u001b[0m |\n",
      "| \u001b[0m 50      \u001b[0m | \u001b[0m 0.1966  \u001b[0m | \u001b[0m 53.16   \u001b[0m | \u001b[0m 5.555   \u001b[0m | \u001b[0m 286.6   \u001b[0m | \u001b[0m 2.992   \u001b[0m | \u001b[0m 0.7634  \u001b[0m |\n",
      "| \u001b[0m 51      \u001b[0m | \u001b[0m 0.2264  \u001b[0m | \u001b[0m 72.16   \u001b[0m | \u001b[0m 96.77   \u001b[0m | \u001b[0m 104.1   \u001b[0m | \u001b[0m 2.889   \u001b[0m | \u001b[0m 0.3324  \u001b[0m |\n",
      "| \u001b[0m 52      \u001b[0m | \u001b[0m 0.1249  \u001b[0m | \u001b[0m 10.76   \u001b[0m | \u001b[0m 96.28   \u001b[0m | \u001b[0m 229.0   \u001b[0m | \u001b[0m 99.49   \u001b[0m | \u001b[0m 0.4323  \u001b[0m |\n",
      "| \u001b[0m 53      \u001b[0m | \u001b[0m 0.1417  \u001b[0m | \u001b[0m 5.315   \u001b[0m | \u001b[0m 99.59   \u001b[0m | \u001b[0m 156.4   \u001b[0m | \u001b[0m 95.86   \u001b[0m | \u001b[0m 0.3638  \u001b[0m |\n",
      "| \u001b[0m 54      \u001b[0m | \u001b[0m 0.1905  \u001b[0m | \u001b[0m 19.84   \u001b[0m | \u001b[0m 99.53   \u001b[0m | \u001b[0m 134.6   \u001b[0m | \u001b[0m 3.782   \u001b[0m | \u001b[0m 0.181   \u001b[0m |\n",
      "| \u001b[0m 55      \u001b[0m | \u001b[0m 0.1263  \u001b[0m | \u001b[0m 97.68   \u001b[0m | \u001b[0m 99.71   \u001b[0m | \u001b[0m 268.1   \u001b[0m | \u001b[0m 51.7    \u001b[0m | \u001b[0m 0.3216  \u001b[0m |\n",
      "| \u001b[0m 56      \u001b[0m | \u001b[0m 0.1298  \u001b[0m | \u001b[0m 57.1    \u001b[0m | \u001b[0m 98.94   \u001b[0m | \u001b[0m 108.5   \u001b[0m | \u001b[0m 99.16   \u001b[0m | \u001b[0m 0.3943  \u001b[0m |\n",
      "| \u001b[0m 57      \u001b[0m | \u001b[0m 0.1266  \u001b[0m | \u001b[0m 21.15   \u001b[0m | \u001b[0m 2.162   \u001b[0m | \u001b[0m 296.6   \u001b[0m | \u001b[0m 49.38   \u001b[0m | \u001b[0m 0.2987  \u001b[0m |\n"
     ]
    },
    {
     "name": "stdout",
     "output_type": "stream",
     "text": [
      "| \u001b[0m 58      \u001b[0m | \u001b[0m 0.2281  \u001b[0m | \u001b[0m 44.21   \u001b[0m | \u001b[0m 89.29   \u001b[0m | \u001b[0m 100.2   \u001b[0m | \u001b[0m 2.653   \u001b[0m | \u001b[0m 0.6757  \u001b[0m |\n",
      "| \u001b[0m 59      \u001b[0m | \u001b[0m 0.1831  \u001b[0m | \u001b[0m 39.75   \u001b[0m | \u001b[0m 98.44   \u001b[0m | \u001b[0m 191.6   \u001b[0m | \u001b[0m 3.53    \u001b[0m | \u001b[0m 0.4461  \u001b[0m |\n",
      "| \u001b[0m 60      \u001b[0m | \u001b[0m 0.202   \u001b[0m | \u001b[0m 98.4    \u001b[0m | \u001b[0m 2.812   \u001b[0m | \u001b[0m 220.8   \u001b[0m | \u001b[0m 2.173   \u001b[0m | \u001b[0m 0.7481  \u001b[0m |\n",
      "=====================================================================================\n",
      "总共用时428.69s\n"
     ]
    }
   ],
   "source": [
    "start = time.time()\n",
    "rf_bayes_opt.maximize(init_points=10, # Random exploration steps, can help by diversifying the exploration space.\n",
    "                      n_iter=50       # steps of bayesian optimization, The more steps the more likely to find a good maximum you are.\n",
    "                     )\n",
    "end = time.time()\n",
    "print( '总共用时{:.2f}s'.format(end-start) )"
   ]
  },
  {
   "cell_type": "markdown",
   "metadata": {},
   "source": [
    "官方说明：The best combination of parameters and target value found can be accessed via the property optimizer.max.  \n",
    "所以用的是 1-mae，最后找到最大的1-mae就是最小的mae"
   ]
  },
  {
   "cell_type": "code",
   "execution_count": 208,
   "metadata": {},
   "outputs": [
    {
     "data": {
      "text/plain": [
       "{'target': 0.22809648599197802,\n",
       " 'params': {'max_depth_value': 2.222159226701153,\n",
       "  'min_child_samples_value': 3.709496902418164,\n",
       "  'n_estimators_value': 100.3511302840505,\n",
       "  'num_leaves_value': 2.82230563956145,\n",
       "  'subsample_value': 0.732594158488113}}"
      ]
     },
     "execution_count": 208,
     "metadata": {},
     "output_type": "execute_result"
    }
   ],
   "source": [
    "rf_bayes_opt.max"
   ]
  },
  {
   "cell_type": "markdown",
   "metadata": {},
   "source": [
    "**最小的，41次，mae = 0.1231，但是感觉各个参数都很极端，容易过拟合，比如subsample太小，max_depth、min_child_samples_value、n_estimators_value都极大**"
   ]
  },
  {
   "cell_type": "code",
   "execution_count": 186,
   "metadata": {},
   "outputs": [
    {
     "ename": "TypeError",
     "evalue": "'BayesianOptimization' object is not iterable",
     "output_type": "error",
     "traceback": [
      "\u001b[1;31m---------------------------------------------------------------------------\u001b[0m",
      "\u001b[1;31mTypeError\u001b[0m                                 Traceback (most recent call last)",
      "\u001b[1;32m<ipython-input-186-5f5e898da19c>\u001b[0m in \u001b[0;36m<module>\u001b[1;34m\u001b[0m\n\u001b[1;32m----> 1\u001b[1;33m \u001b[0mlist\u001b[0m\u001b[1;33m(\u001b[0m\u001b[0mrf_bayes_opt\u001b[0m\u001b[1;33m)\u001b[0m\u001b[1;33m\u001b[0m\u001b[0m\n\u001b[0m",
      "\u001b[1;31mTypeError\u001b[0m: 'BayesianOptimization' object is not iterable"
     ]
    }
   ],
   "source": [
    "# not iterable\n",
    "rf_bayes_opt"
   ]
  }
 ],
 "metadata": {
  "kernelspec": {
   "display_name": "Python 3",
   "language": "python",
   "name": "python3"
  },
  "language_info": {
   "codemirror_mode": {
    "name": "ipython",
    "version": 3
   },
   "file_extension": ".py",
   "mimetype": "text/x-python",
   "name": "python",
   "nbconvert_exporter": "python",
   "pygments_lexer": "ipython3",
   "version": "3.6.2"
  },
  "toc": {
   "base_numbering": 1,
   "nav_menu": {},
   "number_sections": true,
   "sideBar": true,
   "skip_h1_title": false,
   "title_cell": "Table of Contents",
   "title_sidebar": "Contents",
   "toc_cell": false,
   "toc_position": {},
   "toc_section_display": true,
   "toc_window_display": true
  }
 },
 "nbformat": 4,
 "nbformat_minor": 2
}
