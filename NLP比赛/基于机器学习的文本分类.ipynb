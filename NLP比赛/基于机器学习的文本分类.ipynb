{
 "cells": [
  {
   "cell_type": "markdown",
   "metadata": {},
   "source": [
    "### 文本表示方法 Part1\n",
    "\n",
    "区别于结构化数据和图片数据，在自然语言领域，文本是不定长度的（每个样本的**特征数不一致**）。文本表示成计算机能够运算的数字或向量的方法一般称为**词嵌入**（Word Embedding）方法。词嵌入将不定长的文本转换到定长的空间内，是文本分类的第一步。\n",
    "\n",
    "句子1：我爱北京天安门  \n",
    "句子2：我喜欢上海"
   ]
  },
  {
   "cell_type": "markdown",
   "metadata": {},
   "source": [
    "#### One-hot 方法\n",
    "\n",
    "与数据挖掘任务中的独热码是一致的，即将每一个单词使用一个高纬度（维度数等于去重后的单词个数）的稀疏离散向量表示。具体将每个字/词（看作某个特征）编码一个索引，然后根据索引进行赋值。  \n",
    "\n",
    "如：  \n",
    "句子1：我 爱 北 京 天 安 门  \n",
    "句子2：我 喜 欢 上 海"
   ]
  },
  {
   "cell_type": "markdown",
   "metadata": {},
   "source": [
    "#### Bag of Words（词袋表示）\n",
    "\n",
    "也称为Count Vectors，每个文档的字/词可以使用其出现次数来进行表示。在one-hot的基础上（相同维度的稀疏向量），标记出每个单词（特征）的出现次数。\n",
    "\n",
    "在 **sklearn** 中可以通过 CountVectorizer 来实现这一步骤"
   ]
  },
  {
   "cell_type": "markdown",
   "metadata": {},
   "source": [
    "#### N-gram\n",
    "\n",
    "与 Bag of Words 类似，区别在于 相邻单词组合（相邻的N个） 构造新的单词，并进行计数。\n",
    "\n",
    "如：   \n",
    "句子1：我爱 爱北 北京 京天 天安 安门  \n",
    "句子2：我喜 喜欢 欢上 上海"
   ]
  },
  {
   "cell_type": "markdown",
   "metadata": {},
   "source": [
    "#### TF-IDF\n",
    "TF-IDF 分数由两部分组成：第一部分是词语频率（Term Frequency），第二部分是逆文档频率（Inverse Document Frequency）。\n",
    "\n",
    "TF(t)= 该词语在当前文档出现的次数 / 当前文档中词语的总数\n",
    "IDF(t)= ln（语料库中文档总数 / 出现该词语的文档总数）\n",
    "\n",
    "在 **sklearn** 中可以通过 TfidfVectorizer 来实现这一步骤"
   ]
  },
  {
   "cell_type": "markdown",
   "metadata": {},
   "source": [
    "### 基于机器学习的文本分类模型\n",
    "对比不同文本表示算法的精度，通过本地构建验证集计算F1得分\n",
    "\n",
    "#### Bag of Words + RidgeClassifier"
   ]
  },
  {
   "cell_type": "code",
   "execution_count": 5,
   "metadata": {},
   "outputs": [
    {
     "name": "stdout",
     "output_type": "stream",
     "text": [
      "0.65441877581244\n"
     ]
    }
   ],
   "source": [
    "import pandas as pd\n",
    "from sklearn.feature_extraction.text import CountVectorizer\n",
    "from sklearn.linear_model import RidgeClassifier\n",
    "from sklearn.metrics import f1_score\n",
    "\n",
    "train = pd.read_csv('./train_set.csv.zip', sep='\\t', nrows=15000)\n",
    "\n",
    "# 将文本用 BOW 方法进行表示，限制构造的向量长度！！！\n",
    "vectorizer = CountVectorizer(max_features=3000)\n",
    "train_BOW = vectorizer.fit_transform(train['text'])\n",
    "\n",
    "# 前10000个数据进行训练\n",
    "clf = RidgeClassifier()\n",
    "clf.fit(train_BOW[:10000], train['label'].values[:10000])\n",
    "\n",
    "# 后5000个数据进行测试\n",
    "val_pred = clf.predict(train_BOW[10000:])\n",
    "print(f1_score(train['label'].values[10000:], val_pred, average='macro'))"
   ]
  },
  {
   "cell_type": "code",
   "execution_count": 9,
   "metadata": {},
   "outputs": [
    {
     "data": {
      "text/plain": [
       "array([0, 1, 0, 4, 5, 3, 1, 0, 1, 0, 3, 3, 0, 2, 1, 2, 4, 1, 1, 0, 3, 1,\n",
       "       2, 1, 3, 0, 2, 0, 3, 5, 2, 1, 3, 5, 2, 6, 2, 0, 2, 2, 3, 1, 3, 0,\n",
       "       8, 2, 2, 6, 2, 1], dtype=int64)"
      ]
     },
     "execution_count": 9,
     "metadata": {},
     "output_type": "execute_result"
    }
   ],
   "source": [
    "val_pred[:50]"
   ]
  },
  {
   "cell_type": "code",
   "execution_count": 11,
   "metadata": {},
   "outputs": [
    {
     "data": {
      "text/plain": [
       "array([ 2, 11,  3,  2,  3,  9,  3, 10, 12,  3,  0,  7,  4,  0,  0,  1,  1,\n",
       "        2,  4,  2,  0,  1,  2,  2, 12,  4,  3,  4,  1,  1,  7,  0,  0,  3,\n",
       "        1,  1,  0,  1,  1,  4,  2,  0,  3,  1,  9,  7,  2,  2,  2,  7],\n",
       "      dtype=int64)"
      ]
     },
     "execution_count": 11,
     "metadata": {},
     "output_type": "execute_result"
    }
   ],
   "source": [
    "train.label[:50].values"
   ]
  },
  {
   "cell_type": "code",
   "execution_count": 13,
   "metadata": {},
   "outputs": [
    {
     "data": {
      "text/plain": [
       "array([False, False, False, False, False, False, False, False, False,\n",
       "       False, False, False, False, False, False, False, False, False,\n",
       "       False, False, False,  True,  True, False, False, False, False,\n",
       "       False, False, False, False, False, False, False, False, False,\n",
       "       False, False, False, False, False, False,  True, False, False,\n",
       "       False,  True, False,  True, False])"
      ]
     },
     "execution_count": 13,
     "metadata": {},
     "output_type": "execute_result"
    }
   ],
   "source": [
    "val_pred[:50] == train.label[:50].values"
   ]
  },
  {
   "cell_type": "code",
   "execution_count": 14,
   "metadata": {},
   "outputs": [
    {
     "name": "stdout",
     "output_type": "stream",
     "text": [
      "0.5555191534033663\n",
      "Wall time: 1.97 ms\n"
     ]
    }
   ],
   "source": [
    "print(f1_score(train['label'].values[10000:10050], val_pred[:50], average='macro'))"
   ]
  },
  {
   "cell_type": "markdown",
   "metadata": {},
   "source": [
    "#### TF-IDF + RidgeClassifier"
   ]
  },
  {
   "cell_type": "code",
   "execution_count": 8,
   "metadata": {},
   "outputs": [
    {
     "name": "stdout",
     "output_type": "stream",
     "text": [
      "0.65441877581244\n"
     ]
    }
   ],
   "source": [
    "from sklearn.feature_extraction.text import TfidfVectorizer\n",
    "\n",
    "tfidf = TfidfVectorizer(ngram_range=(1,3), max_features=3000)\n",
    "train_TF_IDF = tfidf.fit_transform(train['text'])\n",
    "\n",
    "# 训练\n",
    "clf2 = RidgeClassifier()\n",
    "clf2.fit(train_TF_IDF[:10000], train['label'].values[:10000])\n",
    "\n",
    "# 验证\n",
    "val_pred2 = clf.predict(train_TF_IDF[10000:])\n",
    "print(f1_score(train['label'].values[10000:], val_pred, average='macro'))"
   ]
  },
  {
   "cell_type": "markdown",
   "metadata": {},
   "source": [
    "#### 也没有数据的预处理，直接建模，但是结果为什么查这么多？？"
   ]
  },
  {
   "cell_type": "code",
   "execution_count": null,
   "metadata": {},
   "outputs": [],
   "source": []
  },
  {
   "cell_type": "markdown",
   "metadata": {},
   "source": [
    "### Baseline--使用全部数据进行训练和验证"
   ]
  },
  {
   "cell_type": "code",
   "execution_count": 15,
   "metadata": {},
   "outputs": [],
   "source": [
    "train_all = pd.read_csv('./train_set.csv.zip', sep='\\t')\n",
    "test_all = pd.read_csv('./test_a.csv.zip', sep='\\t')"
   ]
  },
  {
   "cell_type": "markdown",
   "metadata": {},
   "source": [
    "#### 使用全部数据来进行文本表示\n",
    "该文本表示方法是无监督学习，所以可以使用测试集数据来进行训练"
   ]
  },
  {
   "cell_type": "code",
   "execution_count": 17,
   "metadata": {},
   "outputs": [],
   "source": [
    "train_text = train_all['text']\n",
    "test_text = test_all['text']\n",
    "all_text = pd.concat([train_text, test_text])"
   ]
  },
  {
   "cell_type": "code",
   "execution_count": 18,
   "metadata": {},
   "outputs": [
    {
     "name": "stdout",
     "output_type": "stream",
     "text": [
      "Wall time: 4min 44s\n"
     ]
    }
   ],
   "source": [
    "%%time\n",
    "word_vectorizer = TfidfVectorizer(\n",
    "    sublinear_tf=True,\n",
    "    strip_accents='unicode',\n",
    "    analyzer='word',\n",
    "    token_pattern=r'\\w{1,}',\n",
    "    stop_words='english',\n",
    "    ngram_range=(1, 1),\n",
    "    max_features=10000)\n",
    "\n",
    "word_vectorizer.fit(all_text)\n",
    "train_word_features = word_vectorizer.transform(train_text)\n",
    "test_word_features = word_vectorizer.transform(test_text)"
   ]
  },
  {
   "cell_type": "code",
   "execution_count": 23,
   "metadata": {},
   "outputs": [
    {
     "data": {
      "text/plain": [
       "<2x6977 sparse matrix of type '<class 'numpy.float64'>'\n",
       "\twith 616 stored elements in Compressed Sparse Row format>"
      ]
     },
     "execution_count": 23,
     "metadata": {},
     "output_type": "execute_result"
    }
   ],
   "source": [
    "train_word_features[:2]"
   ]
  },
  {
   "cell_type": "markdown",
   "metadata": {},
   "source": [
    "#### 划分训练数据为训练集和验证集"
   ]
  },
  {
   "cell_type": "code",
   "execution_count": 20,
   "metadata": {},
   "outputs": [],
   "source": [
    "from sklearn.model_selection import train_test_split\n",
    "\n",
    "X_train = train_word_features\n",
    "y_train = train_all['label']\n",
    "X_test = test_word_features\n",
    "\n",
    "# 可以改变输入维度\n",
    "x_train_, x_valid_, y_train_, y_valid_ = train_test_split(X_train, y_train, test_size=0.2)"
   ]
  },
  {
   "cell_type": "markdown",
   "metadata": {},
   "source": [
    "#### 逻辑回归"
   ]
  },
  {
   "cell_type": "code",
   "execution_count": 22,
   "metadata": {},
   "outputs": [
    {
     "name": "stderr",
     "output_type": "stream",
     "text": [
      "d:\\softwares\\anaconda\\envs\\tf\\lib\\site-packages\\sklearn\\linear_model\\logistic.py:432: FutureWarning: Default solver will be changed to 'lbfgs' in 0.22. Specify a solver to silence this warning.\n",
      "  FutureWarning)\n",
      "d:\\softwares\\anaconda\\envs\\tf\\lib\\site-packages\\sklearn\\linear_model\\logistic.py:469: FutureWarning: Default multi_class will be changed to 'auto' in 0.22. Specify the multi_class option to silence this warning.\n",
      "  \"this warning.\", FutureWarning)\n",
      "d:\\softwares\\anaconda\\envs\\tf\\lib\\site-packages\\sklearn\\linear_model\\logistic.py:1544: UserWarning: 'n_jobs' > 1 does not have any effect when 'solver' is set to 'liblinear'. Got 'n_jobs' = 3.\n",
      "  \" = {}.\".format(effective_n_jobs(self.n_jobs)))\n"
     ]
    },
    {
     "name": "stdout",
     "output_type": "stream",
     "text": [
      "0.948625 0.9137070089196753\n",
      "Wall time: 3min 8s\n"
     ]
    }
   ],
   "source": [
    "%%time\n",
    "from sklearn.linear_model import LogisticRegression\n",
    "\n",
    "lr = LogisticRegression(C=4, n_jobs=3)\n",
    "lr.fit(x_train_, y_train_)\n",
    "\n",
    "y_pred = lr.predict(x_valid_)\n",
    "train_scores = lr.score(x_train_, y_train_)\n",
    "print(train_scores, f1_score(y_pred, y_valid_, average='macro'))"
   ]
  }
 ],
 "metadata": {
  "kernelspec": {
   "display_name": "Python 3",
   "language": "python",
   "name": "python3"
  },
  "language_info": {
   "codemirror_mode": {
    "name": "ipython",
    "version": 3
   },
   "file_extension": ".py",
   "mimetype": "text/x-python",
   "name": "python",
   "nbconvert_exporter": "python",
   "pygments_lexer": "ipython3",
   "version": "3.6.2"
  },
  "toc": {
   "base_numbering": 1,
   "nav_menu": {},
   "number_sections": true,
   "sideBar": true,
   "skip_h1_title": false,
   "title_cell": "Table of Contents",
   "title_sidebar": "Contents",
   "toc_cell": false,
   "toc_position": {},
   "toc_section_display": true,
   "toc_window_display": true
  }
 },
 "nbformat": 4,
 "nbformat_minor": 2
}
